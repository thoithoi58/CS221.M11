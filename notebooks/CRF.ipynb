{
 "cells": [
  {
   "cell_type": "markdown",
   "metadata": {},
   "source": [
    "# Data Preparation"
   ]
  },
  {
   "cell_type": "code",
   "execution_count": 1,
   "metadata": {
    "ExecuteTime": {
     "end_time": "2022-01-21T15:04:41.588484Z",
     "start_time": "2022-01-21T15:04:38.632510Z"
    },
    "id": "-lTP5vSWAYhd"
   },
   "outputs": [],
   "source": [
    "import sklearn\n",
    "import sklearn_crfsuite\n",
    "import string\n",
    "from sklearn.metrics import accuracy_score\n",
    "from sklearn.model_selection import train_test_split\n",
    "from sklearn.model_selection import cross_val_score\n",
    "from sklearn_crfsuite import metrics\n",
    "from joblib import dump, load\n",
    "import matplotlib.pyplot as plt"
   ]
  },
  {
   "cell_type": "code",
   "execution_count": 2,
   "metadata": {
    "ExecuteTime": {
     "end_time": "2022-01-21T15:04:41.604111Z",
     "start_time": "2022-01-21T15:04:41.591491Z"
    },
    "id": "rxSojMFoCj8p"
   },
   "outputs": [],
   "source": [
    "def read(file):\n",
    "    with open(file, 'r', encoding='utf8') as f:\n",
    "        file = f.read().splitlines()\n",
    "    data = [[] for _ in range(len(file))]\n",
    "    for idx, i in enumerate(file):\n",
    "        a = i.split()\n",
    "        for j in a:\n",
    "            tmp = (j.rsplit('/',1))\n",
    "            data[idx].append((tmp[0], tmp[1]))\n",
    "    return data"
   ]
  },
  {
   "cell_type": "code",
   "execution_count": 3,
   "metadata": {
    "ExecuteTime": {
     "end_time": "2022-01-21T15:04:41.635353Z",
     "start_time": "2022-01-21T15:04:41.608742Z"
    },
    "id": "ZHo7-81ZAYhe"
   },
   "outputs": [],
   "source": [
    "train_set = read('../corpus/train.txt')\n",
    "test_set = read('../corpus/test.txt')"
   ]
  },
  {
   "cell_type": "code",
   "execution_count": 4,
   "metadata": {
    "ExecuteTime": {
     "end_time": "2022-01-21T15:04:41.651357Z",
     "start_time": "2022-01-21T15:04:41.639359Z"
    },
    "code_folding": [],
    "id": "6gXk5rTCAYhe"
   },
   "outputs": [],
   "source": [
    "#Features extraction for CRF model\n",
    "def word2features(sent, i):\n",
    "    word = sent[i][0]\n",
    "#     postag = sent[i][1]\n",
    "    if i == 0:\n",
    "        first = True\n",
    "    else:\n",
    "        first = False\n",
    "    if i == len(sent) - 1:\n",
    "        last = True\n",
    "    else:\n",
    "        last = False\n",
    "\n",
    "    features = {\n",
    "        'word' : word,\n",
    "        'lower': word.lower(),\n",
    "        'number': word.isdigit(),\n",
    "        'is_title()': word.istitle(),\n",
    "        'is_upper()': word.isupper(),\n",
    "        'has_hyphen': '-' in word,\n",
    "        'is_first': first,\n",
    "        'is_last': last\n",
    "    }\n",
    "\n",
    "    return features\n",
    "\n",
    "\n",
    "def sent2features(sent):\n",
    "    return [word2features(sent, i) for i in range(len(sent))]\n",
    "\n",
    "\n",
    "def sent2labels(sent):\n",
    "    return [word[1] for word in sent]\n",
    "\n",
    "\n",
    "def sent2tokens(sent):\n",
    "    return [word[0] for word in sent]"
   ]
  },
  {
   "cell_type": "code",
   "execution_count": 5,
   "metadata": {
    "ExecuteTime": {
     "end_time": "2022-01-21T15:04:41.682332Z",
     "start_time": "2022-01-21T15:04:41.656359Z"
    },
    "colab": {
     "base_uri": "https://localhost:8080/"
    },
    "id": "LHKTIgqAAYhg",
    "outputId": "29aceecc-c73f-4aef-837b-d2c75635ab88",
    "scrolled": true
   },
   "outputs": [],
   "source": [
    "X_train = [sent2features(s) for s in train_set]\n",
    "y_train = [sent2labels(s) for s in train_set]\n",
    "\n",
    "X_test = [sent2features(s) for s in test_set]\n",
    "y_test = [sent2labels(s) for s in test_set]"
   ]
  },
  {
   "cell_type": "code",
   "execution_count": 6,
   "metadata": {
    "ExecuteTime": {
     "end_time": "2022-01-21T15:04:41.698324Z",
     "start_time": "2022-01-21T15:04:41.685331Z"
    }
   },
   "outputs": [],
   "source": [
    "crf = sklearn_crfsuite.CRF(\n",
    "    algorithm='lbfgs', \n",
    "    c1=0.1,\n",
    "    c2=0.25,\n",
    ")"
   ]
  },
  {
   "cell_type": "code",
   "execution_count": 7,
   "metadata": {
    "ExecuteTime": {
     "end_time": "2022-01-21T15:04:42.062324Z",
     "start_time": "2022-01-21T15:04:41.702330Z"
    },
    "scrolled": true
   },
   "outputs": [
    {
     "name": "stderr",
     "output_type": "stream",
     "text": [
      "c:\\users\\owcap\\appdata\\local\\programs\\python\\python37\\lib\\site-packages\\sklearn\\base.py:213: FutureWarning: From version 0.24, get_params will raise an AttributeError if a parameter cannot be retrieved as an instance attribute. Previously it would return None.\n",
      "  FutureWarning)\n"
     ]
    },
    {
     "data": {
      "text/plain": [
       "CRF(algorithm='lbfgs', c1=0.1, c2=0.25, keep_tempfiles=None)"
      ]
     },
     "execution_count": 7,
     "metadata": {},
     "output_type": "execute_result"
    }
   ],
   "source": [
    "crf.fit(X_train, y_train)"
   ]
  },
  {
   "cell_type": "code",
   "execution_count": 8,
   "metadata": {
    "ExecuteTime": {
     "end_time": "2022-01-21T15:04:42.093975Z",
     "start_time": "2022-01-21T15:04:42.065321Z"
    }
   },
   "outputs": [
    {
     "data": {
      "text/plain": [
       "['../models/crf.joblib']"
      ]
     },
     "execution_count": 8,
     "metadata": {},
     "output_type": "execute_result"
    }
   ],
   "source": [
    "#Save model for GUI use\n",
    "dump(crf,'../models/crf.joblib')"
   ]
  },
  {
   "cell_type": "code",
   "execution_count": 9,
   "metadata": {
    "ExecuteTime": {
     "end_time": "2022-01-21T15:04:42.109974Z",
     "start_time": "2022-01-21T15:04:42.099978Z"
    }
   },
   "outputs": [],
   "source": [
    "labels = list(crf.classes_)\n",
    "labels.remove('X')"
   ]
  },
  {
   "cell_type": "code",
   "execution_count": 10,
   "metadata": {
    "ExecuteTime": {
     "end_time": "2022-01-21T15:04:42.188973Z",
     "start_time": "2022-01-21T15:04:42.112970Z"
    }
   },
   "outputs": [
    {
     "name": "stdout",
     "output_type": "stream",
     "text": [
      "F1 score on the train set = 0.9669901131427421\n",
      "\n",
      "Accuracy on the train set = 0.9668281774133433\n",
      "\n"
     ]
    }
   ],
   "source": [
    "#obtaining metrics such as accuracy, etc. on the train set\n",
    "ypred = crf.predict(X_train)\n",
    "print('F1 score on the train set = {}\\n'.format(metrics.flat_f1_score(y_train, ypred, average='weighted', labels=labels)))\n",
    "print('Accuracy on the train set = {}\\n'.format(metrics.flat_accuracy_score(y_train, ypred)))\n",
    "\n",
    "sorted_labels = sorted(\n",
    "    labels,\n",
    "    key=lambda name: (name[1:], name[0])\n",
    ")"
   ]
  },
  {
   "cell_type": "code",
   "execution_count": 11,
   "metadata": {
    "ExecuteTime": {
     "end_time": "2022-01-21T15:04:42.236970Z",
     "start_time": "2022-01-21T15:04:42.191979Z"
    },
    "scrolled": false
   },
   "outputs": [
    {
     "name": "stdout",
     "output_type": "stream",
     "text": [
      "F1 score on the test set = 0.8511374383708683\n",
      "\n",
      "Accuracy on the test set = 0.8564356435643564\n",
      "\n"
     ]
    },
    {
     "name": "stderr",
     "output_type": "stream",
     "text": [
      "c:\\users\\owcap\\appdata\\local\\programs\\python\\python37\\lib\\site-packages\\sklearn\\metrics\\_classification.py:1465: UndefinedMetricWarning: F-score is ill-defined and being set to 0.0 in labels with no true nor predicted samples. Use `zero_division` parameter to control this behavior.\n",
      "  average, \"true nor predicted\", 'F-score is', len(true_sum)\n"
     ]
    }
   ],
   "source": [
    "#obtaining metrics such as accuracy, etc. on the test set\n",
    "# print('Train set classification report: \\n\\n{}'.format(metrics.flat_classification_report(\n",
    "# y_train, ypred, labels=sorted_labels, digits=3\n",
    "# )))\n",
    "#obtaining metrics such as accuracy, etc. on the test set\n",
    "ypred = crf.predict(X_test)\n",
    "print('F1 score on the test set = {}\\n'.format(metrics.flat_f1_score(y_test, ypred,\n",
    "average='weighted', labels=labels)))\n",
    "print('Accuracy on the test set = {}\\n'.format(metrics.flat_accuracy_score(y_test, ypred)))\n",
    "\n",
    "sorted_labels = sorted(\n",
    "    labels,\n",
    "    key=lambda name: (name[1:], name[0])\n",
    ")\n",
    "# print('Test set classification report: \\n\\n{}'.format(metrics.flat_classification_report(y_test, ypred, labels=sorted_labels, digits=3)))"
   ]
  },
  {
   "cell_type": "markdown",
   "metadata": {},
   "source": [
    "# Visualize top 15 tuples the HMM gets wrong"
   ]
  },
  {
   "cell_type": "code",
   "execution_count": 12,
   "metadata": {
    "ExecuteTime": {
     "end_time": "2022-01-21T15:04:42.252987Z",
     "start_time": "2022-01-21T15:04:42.239989Z"
    }
   },
   "outputs": [],
   "source": [
    "wrong = [(x,y) for i, j in zip(ypred, y_test) for x,y in zip(i, j) if x!=y]"
   ]
  },
  {
   "cell_type": "code",
   "execution_count": 13,
   "metadata": {
    "ExecuteTime": {
     "end_time": "2022-01-21T15:04:42.268988Z",
     "start_time": "2022-01-21T15:04:42.255971Z"
    }
   },
   "outputs": [],
   "source": [
    "from collections import Counter\n",
    "\n",
    "wrong_tuple = dict(Counter(wrong).most_common(15))\n",
    "wrong_tuple = dict(sorted(wrong_tuple.items(), key=lambda item: item[1]))"
   ]
  },
  {
   "cell_type": "code",
   "execution_count": 14,
   "metadata": {
    "ExecuteTime": {
     "end_time": "2022-01-21T15:04:43.169616Z",
     "start_time": "2022-01-21T15:04:42.271979Z"
    }
   },
   "outputs": [
    {
     "data": {
      "image/png": "[encoded data removed]",
      "text/plain": [
       "<Figure size 1080x936 with 1 Axes>"
      ]
     },
     "metadata": {
      "needs_background": "light"
     },
     "output_type": "display_data"
    }
   ],
   "source": [
    "plt.rcParams[\"figure.figsize\"] = (15,13)\n",
    "plt.barh(range(len(wrong_tuple)), list(wrong_tuple.values()), align='center')\n",
    "plt.yticks(range(len(wrong_tuple)), list(wrong_tuple.keys()))\n",
    "# plt.xticks(rotation=90)\n",
    "# plt.show()\n",
    "plt.tight_layout()\n",
    "plt.savefig('../img/wrong_tuple_crf.png', bbox_inches='tight', pad_inches=0.0)"
   ]
  }
 ],
 "metadata": {
  "colab": {
   "name": "Copy of CRF.ipynb",
   "provenance": []
  },
  "kernelspec": {
   "display_name": "Python 3 (ipykernel)",
   "language": "python",
   "name": "python3"
  },
  "language_info": {
   "codemirror_mode": {
    "name": "ipython",
    "version": 3
   },
   "file_extension": ".py",
   "mimetype": "text/x-python",
   "name": "python",
   "nbconvert_exporter": "python",
   "pygments_lexer": "ipython3",
   "version": "3.7.9"
  }
 },
 "nbformat": 4,
 "nbformat_minor": 1
}
