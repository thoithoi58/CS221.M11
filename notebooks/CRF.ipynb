{
 "cells": [
  {
   "cell_type": "code",
   "execution_count": null,
   "metadata": {
    "ExecuteTime": {
     "end_time": "2022-01-10T14:51:51.314043Z",
     "start_time": "2022-01-10T14:51:50.911052Z"
    }
   },
   "outputs": [],
   "source": [
    "from joblib import dump, load"
   ]
  },
  {
   "cell_type": "code",
   "execution_count": null,
   "metadata": {
    "ExecuteTime": {
     "end_time": "2022-01-10T14:51:52.091393Z",
     "start_time": "2022-01-10T14:51:52.087390Z"
    },
    "colab": {
     "base_uri": "https://localhost:8080/"
    },
    "id": "l0BmeopFAYha",
    "outputId": "64950a88-eb3c-4bac-ef53-c0e644c52561"
   },
   "outputs": [],
   "source": [
    "# !pip install sklearn_crfsuite\n",
    "# !pip install regex\n",
    "# !pip install -U 'scikit-learn<0.24'"
   ]
  },
  {
   "cell_type": "code",
   "execution_count": 1,
   "metadata": {
    "ExecuteTime": {
     "end_time": "2022-01-10T15:09:57.175832Z",
     "start_time": "2022-01-10T15:09:56.015909Z"
    },
    "id": "-lTP5vSWAYhd"
   },
   "outputs": [],
   "source": [
    "import re\n",
    "import sklearn\n",
    "import sklearn_crfsuite\n",
    "import string\n",
    "from sklearn.metrics import accuracy_score\n",
    "from sklearn.model_selection import train_test_split\n",
    "from sklearn.metrics import accuracy_score\n",
    "from sklearn.model_selection import cross_val_score\n",
    "from sklearn_crfsuite import metrics"
   ]
  },
  {
   "cell_type": "code",
   "execution_count": 2,
   "metadata": {
    "ExecuteTime": {
     "end_time": "2022-01-10T15:09:57.190828Z",
     "start_time": "2022-01-10T15:09:57.178824Z"
    },
    "id": "rxSojMFoCj8p"
   },
   "outputs": [],
   "source": [
    "def read(file):\n",
    "    with open(file, 'r', encoding='utf8') as f:\n",
    "        file = f.read().splitlines()\n",
    "    data = [[] for _ in range(len(file))]\n",
    "    for idx, i in enumerate(file):\n",
    "        a = i.split()\n",
    "        for j in a:\n",
    "            tmp = (j.rsplit('/',1))\n",
    "            data[idx].append((tmp[0], tmp[1]))\n",
    "    return data"
   ]
  },
  {
   "cell_type": "code",
   "execution_count": 3,
   "metadata": {
    "ExecuteTime": {
     "end_time": "2022-01-10T15:09:57.206804Z",
     "start_time": "2022-01-10T15:09:57.193819Z"
    },
    "id": "ZHo7-81ZAYhe"
   },
   "outputs": [],
   "source": [
    "train_set = read('C:/Users/owcap/Documents/Learning/CS221/Project/corpus/train.txt')\n",
    "test_set = read('C:/Users/owcap/Documents/Learning/CS221/Project/corpus/test.txt')"
   ]
  },
  {
   "cell_type": "code",
   "execution_count": 4,
   "metadata": {
    "ExecuteTime": {
     "end_time": "2022-01-10T15:09:59.416672Z",
     "start_time": "2022-01-10T15:09:59.391679Z"
    },
    "code_folding": [],
    "id": "6gXk5rTCAYhe"
   },
   "outputs": [],
   "source": [
    "def word2features(sent, i):\n",
    "    word = sent[i][0]\n",
    "#     postag = sent[i][1]\n",
    "    if i == 0:\n",
    "        first = True\n",
    "    else:\n",
    "        first = False\n",
    "    if i == len(sent) - 1:\n",
    "        last = True\n",
    "    else:\n",
    "        last = False\n",
    "\n",
    "    features = {\n",
    "        'word' : word,\n",
    "        'word.lower()': word.lower(),\n",
    "        'number': word.isdigit(),\n",
    "        'word.istitle()': word.istitle(),\n",
    "        'word.isupper()': word.isupper(),\n",
    "        'has_hyphen': '-' in word,\n",
    "        'is_first': first,\n",
    "        'is_last': last\n",
    "    }\n",
    "\n",
    "    return features\n",
    "\n",
    "\n",
    "def sent2features(sent):\n",
    "    return [word2features(sent, i) for i in range(len(sent))]\n",
    "\n",
    "\n",
    "def sent2labels(sent):\n",
    "    return [word[1] for word in sent]\n",
    "\n",
    "\n",
    "def sent2tokens(sent):\n",
    "    return [word[0] for word in sent]"
   ]
  },
  {
   "cell_type": "code",
   "execution_count": 5,
   "metadata": {
    "ExecuteTime": {
     "end_time": "2022-01-10T15:10:00.604711Z",
     "start_time": "2022-01-10T15:10:00.587695Z"
    },
    "colab": {
     "base_uri": "https://localhost:8080/"
    },
    "id": "LHKTIgqAAYhg",
    "outputId": "29aceecc-c73f-4aef-837b-d2c75635ab88",
    "scrolled": true
   },
   "outputs": [],
   "source": [
    "X_train = [sent2features(s) for s in train_set]\n",
    "y_train = [sent2labels(s) for s in train_set]\n",
    "\n",
    "X_test = [sent2features(s) for s in test_set]\n",
    "y_test = [sent2labels(s) for s in test_set]"
   ]
  },
  {
   "cell_type": "code",
   "execution_count": 6,
   "metadata": {
    "ExecuteTime": {
     "end_time": "2022-01-10T15:10:14.507018Z",
     "start_time": "2022-01-10T15:10:14.491990Z"
    }
   },
   "outputs": [],
   "source": [
    "def word2featuresss(sent, i):\n",
    "    word = sent[i]\n",
    "#     postag = sent[i][1]\n",
    "    if i == 0:\n",
    "        first = True\n",
    "    else:\n",
    "        first = False\n",
    "    if i == len(sent) - 1:\n",
    "        last = True\n",
    "    else:\n",
    "        last = False\n",
    "\n",
    "    features = {\n",
    "        'word' : word,\n",
    "        'word.lower()': word.lower(),\n",
    "        'number': word.isdigit(),\n",
    "        'word.istitle()': word.istitle(),\n",
    "        'word.isupper()': word.isupper(),\n",
    "        'has_hyphen': '-' in word,\n",
    "        'is_first': first,\n",
    "        'is_last': last\n",
    "    }\n",
    "\n",
    "    return features"
   ]
  },
  {
   "cell_type": "code",
   "execution_count": 7,
   "metadata": {
    "ExecuteTime": {
     "end_time": "2022-01-10T15:10:16.089924Z",
     "start_time": "2022-01-10T15:10:16.072917Z"
    }
   },
   "outputs": [],
   "source": [
    "crf = sklearn_crfsuite.CRF(\n",
    "    algorithm='lbfgs', \n",
    "    c1=0.1,\n",
    "    c2=0.25,\n",
    ")"
   ]
  },
  {
   "cell_type": "code",
   "execution_count": 8,
   "metadata": {
    "ExecuteTime": {
     "end_time": "2022-01-10T15:10:16.903396Z",
     "start_time": "2022-01-10T15:10:16.540369Z"
    },
    "scrolled": true
   },
   "outputs": [
    {
     "name": "stderr",
     "output_type": "stream",
     "text": [
      "c:\\users\\owcap\\appdata\\local\\programs\\python\\python37\\lib\\site-packages\\sklearn\\base.py:213: FutureWarning: From version 0.24, get_params will raise an AttributeError if a parameter cannot be retrieved as an instance attribute. Previously it would return None.\n",
      "  FutureWarning)\n"
     ]
    },
    {
     "data": {
      "text/plain": [
       "CRF(algorithm='lbfgs', c1=0.1, c2=0.25, keep_tempfiles=None)"
      ]
     },
     "execution_count": 8,
     "metadata": {},
     "output_type": "execute_result"
    }
   ],
   "source": [
    "crf.fit(X_train, y_train)"
   ]
  },
  {
   "cell_type": "code",
   "execution_count": null,
   "metadata": {
    "ExecuteTime": {
     "end_time": "2022-01-10T14:54:36.188094Z",
     "start_time": "2022-01-10T14:54:36.149093Z"
    }
   },
   "outputs": [],
   "source": [
    "dump(crf,'crf.joblib')"
   ]
  },
  {
   "cell_type": "code",
   "execution_count": 9,
   "metadata": {
    "ExecuteTime": {
     "end_time": "2022-01-10T15:10:21.184654Z",
     "start_time": "2022-01-10T15:10:21.170627Z"
    }
   },
   "outputs": [],
   "source": [
    "k = 'The cat is sitting on the couch .'.split()"
   ]
  },
  {
   "cell_type": "code",
   "execution_count": 12,
   "metadata": {
    "ExecuteTime": {
     "end_time": "2022-01-10T15:11:09.759551Z",
     "start_time": "2022-01-10T15:11:09.740560Z"
    }
   },
   "outputs": [],
   "source": [
    "a = [word2featuresss(k, idx) for idx, i in enumerate(k)]"
   ]
  },
  {
   "cell_type": "code",
   "execution_count": 15,
   "metadata": {
    "ExecuteTime": {
     "end_time": "2022-01-10T15:11:18.869296Z",
     "start_time": "2022-01-10T15:11:18.854158Z"
    }
   },
   "outputs": [],
   "source": [
    "y__ = crf.predict([a])"
   ]
  },
  {
   "cell_type": "code",
   "execution_count": 16,
   "metadata": {
    "ExecuteTime": {
     "end_time": "2022-01-10T15:11:19.196102Z",
     "start_time": "2022-01-10T15:11:19.186078Z"
    },
    "scrolled": false
   },
   "outputs": [
    {
     "data": {
      "text/plain": [
       "[['DET', 'NOUN', 'AUX', 'VERB', 'ADP', 'DET', 'NOUN', 'PUNCT']]"
      ]
     },
     "execution_count": 16,
     "metadata": {},
     "output_type": "execute_result"
    }
   ],
   "source": [
    "y__"
   ]
  },
  {
   "cell_type": "code",
   "execution_count": null,
   "metadata": {
    "ExecuteTime": {
     "end_time": "2022-01-10T15:07:46.827314Z",
     "start_time": "2022-01-10T15:07:46.762292Z"
    }
   },
   "outputs": [],
   "source": [
    "#obtaining metrics such as accuracy, etc. on the train set\n",
    "labels = list(crf.classes_)\n",
    "labels.remove('X')\n",
    "\n",
    "ypred = crf.predict(X_train)\n",
    "print('F1 score on the train set = {}\\n'.format(metrics.flat_f1_score(y_train, ypred, average='weighted', labels=labels)))\n",
    "print('Accuracy on the train set = {}\\n'.format(metrics.flat_accuracy_score(y_train, ypred)))\n",
    "\n",
    "sorted_labels = sorted(\n",
    "    labels,\n",
    "    key=lambda name: (name[1:], name[0])\n",
    ")"
   ]
  },
  {
   "cell_type": "code",
   "execution_count": null,
   "metadata": {
    "ExecuteTime": {
     "end_time": "2022-01-10T15:07:49.436336Z",
     "start_time": "2022-01-10T15:07:49.369322Z"
    },
    "scrolled": false
   },
   "outputs": [],
   "source": [
    "print('Train set classification report: \\n\\n{}'.format(metrics.flat_classification_report(\n",
    "y_train, ypred, labels=sorted_labels, digits=3\n",
    ")))\n",
    "#obtaining metrics such as accuracy, etc. on the test set\n",
    "ypred = crf.predict(X_test)\n",
    "print('F1 score on the test set = {}\\n'.format(metrics.flat_f1_score(y_test, ypred,\n",
    "average='weighted', labels=labels)))\n",
    "print('Accuracy on the test set = {}\\n'.format(metrics.flat_accuracy_score(y_test, ypred)))\n",
    "\n",
    "sorted_labels = sorted(\n",
    "    labels,\n",
    "    key=lambda name: (name[1:], name[0])\n",
    ")\n",
    "# print('Test set classification report: \\n\\n{}'.format(metrics.flat_classification_report(y_test, ypred, labels=sorted_labels, digits=3)))"
   ]
  },
  {
   "cell_type": "code",
   "execution_count": null,
   "metadata": {},
   "outputs": [],
   "source": []
  }
 ],
 "metadata": {
  "colab": {
   "name": "Copy of CRF.ipynb",
   "provenance": []
  },
  "kernelspec": {
   "display_name": "Python 3 (ipykernel)",
   "language": "python",
   "name": "python3"
  },
  "language_info": {
   "codemirror_mode": {
    "name": "ipython",
    "version": 3
   },
   "file_extension": ".py",
   "mimetype": "text/x-python",
   "name": "python",
   "nbconvert_exporter": "python",
   "pygments_lexer": "ipython3",
   "version": "3.7.9"
  }
 },
 "nbformat": 4,
 "nbformat_minor": 1
}
