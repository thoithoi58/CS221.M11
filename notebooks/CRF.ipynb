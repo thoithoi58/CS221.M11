{
 "cells": [
  {
   "cell_type": "markdown",
   "metadata": {},
   "source": [
    "# Data Preparation"
   ]
  },
  {
   "cell_type": "code",
   "execution_count": 1,
   "metadata": {
    "ExecuteTime": {
     "end_time": "2022-01-11T04:06:38.435218Z",
     "start_time": "2022-01-11T04:06:37.196866Z"
    },
    "id": "-lTP5vSWAYhd"
   },
   "outputs": [],
   "source": [
    "import sklearn\n",
    "import sklearn_crfsuite\n",
    "import string\n",
    "from sklearn.metrics import accuracy_score\n",
    "from sklearn.model_selection import train_test_split\n",
    "from sklearn.model_selection import cross_val_score\n",
    "from sklearn_crfsuite import metrics\n",
    "from joblib import dump, load"
   ]
  },
  {
   "cell_type": "code",
   "execution_count": 2,
   "metadata": {
    "ExecuteTime": {
     "end_time": "2022-01-11T04:06:38.450192Z",
     "start_time": "2022-01-11T04:06:38.439213Z"
    },
    "id": "rxSojMFoCj8p"
   },
   "outputs": [],
   "source": [
    "def read(file):\n",
    "    with open(file, 'r', encoding='utf8') as f:\n",
    "        file = f.read().splitlines()\n",
    "    data = [[] for _ in range(len(file))]\n",
    "    for idx, i in enumerate(file):\n",
    "        a = i.split()\n",
    "        for j in a:\n",
    "            tmp = (j.rsplit('/',1))\n",
    "            data[idx].append((tmp[0], tmp[1]))\n",
    "    return data"
   ]
  },
  {
   "cell_type": "code",
   "execution_count": 3,
   "metadata": {
    "ExecuteTime": {
     "end_time": "2022-01-11T04:06:38.667117Z",
     "start_time": "2022-01-11T04:06:38.655140Z"
    },
    "id": "ZHo7-81ZAYhe"
   },
   "outputs": [],
   "source": [
    "train_set = read('C:/Users/owcap/Documents/Learning/CS221/Project/corpus/train.txt')\n",
    "test_set = read('C:/Users/owcap/Documents/Learning/CS221/Project/corpus/test.txt')"
   ]
  },
  {
   "cell_type": "code",
   "execution_count": 4,
   "metadata": {
    "ExecuteTime": {
     "end_time": "2022-01-11T04:06:39.319337Z",
     "start_time": "2022-01-11T04:06:39.301167Z"
    },
    "code_folding": [],
    "id": "6gXk5rTCAYhe"
   },
   "outputs": [],
   "source": [
    "#Features extraction for CRF model\n",
    "def word2features(sent, i):\n",
    "    word = sent[i][0]\n",
    "#     postag = sent[i][1]\n",
    "    if i == 0:\n",
    "        first = True\n",
    "    else:\n",
    "        first = False\n",
    "    if i == len(sent) - 1:\n",
    "        last = True\n",
    "    else:\n",
    "        last = False\n",
    "\n",
    "    features = {\n",
    "        'word' : word,\n",
    "        'word.lower()': word.lower(),\n",
    "        'number': word.isdigit(),\n",
    "        'word.istitle()': word.istitle(),\n",
    "        'word.isupper()': word.isupper(),\n",
    "        'has_hyphen': '-' in word,\n",
    "        'is_first': first,\n",
    "        'is_last': last\n",
    "    }\n",
    "\n",
    "    return features\n",
    "\n",
    "\n",
    "def sent2features(sent):\n",
    "    return [word2features(sent, i) for i in range(len(sent))]\n",
    "\n",
    "\n",
    "def sent2labels(sent):\n",
    "    return [word[1] for word in sent]\n",
    "\n",
    "\n",
    "def sent2tokens(sent):\n",
    "    return [word[0] for word in sent]"
   ]
  },
  {
   "cell_type": "code",
   "execution_count": 5,
   "metadata": {
    "ExecuteTime": {
     "end_time": "2022-01-11T04:06:39.858698Z",
     "start_time": "2022-01-11T04:06:39.837903Z"
    },
    "colab": {
     "base_uri": "https://localhost:8080/"
    },
    "id": "LHKTIgqAAYhg",
    "outputId": "29aceecc-c73f-4aef-837b-d2c75635ab88",
    "scrolled": true
   },
   "outputs": [],
   "source": [
    "X_train = [sent2features(s) for s in train_set]\n",
    "y_train = [sent2labels(s) for s in train_set]\n",
    "\n",
    "X_test = [sent2features(s) for s in test_set]\n",
    "y_test = [sent2labels(s) for s in test_set]"
   ]
  },
  {
   "cell_type": "code",
   "execution_count": 6,
   "metadata": {
    "ExecuteTime": {
     "end_time": "2022-01-11T04:06:40.575691Z",
     "start_time": "2022-01-11T04:06:40.560473Z"
    }
   },
   "outputs": [],
   "source": [
    "crf = sklearn_crfsuite.CRF(\n",
    "    algorithm='lbfgs', \n",
    "    c1=0.1,\n",
    "    c2=0.25,\n",
    ")"
   ]
  },
  {
   "cell_type": "code",
   "execution_count": 7,
   "metadata": {
    "ExecuteTime": {
     "end_time": "2022-01-11T04:06:41.421634Z",
     "start_time": "2022-01-11T04:06:41.024295Z"
    },
    "scrolled": true
   },
   "outputs": [
    {
     "name": "stderr",
     "output_type": "stream",
     "text": [
      "c:\\users\\owcap\\appdata\\local\\programs\\python\\python37\\lib\\site-packages\\sklearn\\base.py:213: FutureWarning: From version 0.24, get_params will raise an AttributeError if a parameter cannot be retrieved as an instance attribute. Previously it would return None.\n",
      "  FutureWarning)\n"
     ]
    },
    {
     "data": {
      "text/plain": [
       "CRF(algorithm='lbfgs', c1=0.1, c2=0.25, keep_tempfiles=None)"
      ]
     },
     "execution_count": 7,
     "metadata": {},
     "output_type": "execute_result"
    }
   ],
   "source": [
    "crf.fit(X_train, y_train)"
   ]
  },
  {
   "cell_type": "code",
   "execution_count": null,
   "metadata": {
    "ExecuteTime": {
     "end_time": "2022-01-10T14:54:36.188094Z",
     "start_time": "2022-01-10T14:54:36.149093Z"
    }
   },
   "outputs": [],
   "source": [
    "#Save model for GUI use\n",
    "dump(crf,'crf.joblib')"
   ]
  },
  {
   "cell_type": "code",
   "execution_count": 8,
   "metadata": {
    "ExecuteTime": {
     "end_time": "2022-01-11T04:06:42.854630Z",
     "start_time": "2022-01-11T04:06:42.824626Z"
    }
   },
   "outputs": [],
   "source": [
    "labels = list(crf.classes_)\n",
    "labels.remove('X')"
   ]
  },
  {
   "cell_type": "code",
   "execution_count": 9,
   "metadata": {
    "ExecuteTime": {
     "end_time": "2022-01-11T04:06:46.729914Z",
     "start_time": "2022-01-11T04:06:46.664160Z"
    }
   },
   "outputs": [
    {
     "name": "stdout",
     "output_type": "stream",
     "text": [
      "F1 score on the train set = 0.9635272620515002\n",
      "\n",
      "Accuracy on the train set = 0.9633225458468176\n",
      "\n"
     ]
    }
   ],
   "source": [
    "#obtaining metrics such as accuracy, etc. on the train set\n",
    "ypred = crf.predict(X_train)\n",
    "print('F1 score on the train set = {}\\n'.format(metrics.flat_f1_score(y_train, ypred, average='weighted', labels=labels)))\n",
    "print('Accuracy on the train set = {}\\n'.format(metrics.flat_accuracy_score(y_train, ypred)))\n",
    "\n",
    "sorted_labels = sorted(\n",
    "    labels,\n",
    "    key=lambda name: (name[1:], name[0])\n",
    ")"
   ]
  },
  {
   "cell_type": "code",
   "execution_count": 10,
   "metadata": {
    "ExecuteTime": {
     "end_time": "2022-01-11T04:06:47.667430Z",
     "start_time": "2022-01-11T04:06:47.585223Z"
    },
    "scrolled": false
   },
   "outputs": [
    {
     "name": "stdout",
     "output_type": "stream",
     "text": [
      "Train set classification report: \n",
      "\n",
      "              precision    recall  f1-score   support\n",
      "\n",
      "        PART      0.962     1.000     0.980        25\n",
      "       CCONJ      1.000     0.986     0.993        73\n",
      "       SCONJ      0.733     0.759     0.746        58\n",
      "         ADJ      0.946     0.951     0.949       185\n",
      "         ADP      0.989     0.979     0.984       288\n",
      "         ADV      0.941     0.929     0.935       154\n",
      "        VERB      0.967     0.928     0.947       319\n",
      "         DET      0.965     0.968     0.966       282\n",
      "        NOUN      0.957     0.978     0.967       547\n",
      "        PRON      0.994     0.953     0.973       171\n",
      "       PROPN      0.926     0.980     0.952       153\n",
      "         NUM      1.000     0.975     0.987        40\n",
      "       PUNCT      0.997     0.997     0.997       366\n",
      "         AUX      0.957     0.973     0.965       113\n",
      "         SYM      1.000     1.000     1.000         3\n",
      "\n",
      "   micro avg      0.963     0.964     0.963      2777\n",
      "   macro avg      0.956     0.957     0.956      2777\n",
      "weighted avg      0.964     0.964     0.964      2777\n",
      "\n",
      "F1 score on the test set = 0.8333683244024119\n",
      "\n",
      "Accuracy on the test set = 0.83942908117752\n",
      "\n"
     ]
    },
    {
     "name": "stderr",
     "output_type": "stream",
     "text": [
      "c:\\users\\owcap\\appdata\\local\\programs\\python\\python37\\lib\\site-packages\\sklearn\\utils\\validation.py:70: FutureWarning: Pass labels=['PART', 'CCONJ', 'SCONJ', 'ADJ', 'ADP', 'ADV', 'VERB', 'DET', 'NOUN', 'PRON', 'PROPN', 'NUM', 'PUNCT', 'AUX', 'SYM'] as keyword args. From version 0.25 passing these as positional arguments will result in an error\n",
      "  FutureWarning)\n",
      "c:\\users\\owcap\\appdata\\local\\programs\\python\\python37\\lib\\site-packages\\sklearn\\metrics\\_classification.py:1465: UndefinedMetricWarning: F-score is ill-defined and being set to 0.0 in labels with no true nor predicted samples. Use `zero_division` parameter to control this behavior.\n",
      "  average, \"true nor predicted\", 'F-score is', len(true_sum)\n"
     ]
    }
   ],
   "source": [
    "#obtaining metrics such as accuracy, etc. on the test set\n",
    "print('Train set classification report: \\n\\n{}'.format(metrics.flat_classification_report(\n",
    "y_train, ypred, labels=sorted_labels, digits=3\n",
    ")))\n",
    "#obtaining metrics such as accuracy, etc. on the test set\n",
    "ypred = crf.predict(X_test)\n",
    "print('F1 score on the test set = {}\\n'.format(metrics.flat_f1_score(y_test, ypred,\n",
    "average='weighted', labels=labels)))\n",
    "print('Accuracy on the test set = {}\\n'.format(metrics.flat_accuracy_score(y_test, ypred)))\n",
    "\n",
    "sorted_labels = sorted(\n",
    "    labels,\n",
    "    key=lambda name: (name[1:], name[0])\n",
    ")\n",
    "# print('Test set classification report: \\n\\n{}'.format(metrics.flat_classification_report(y_test, ypred, labels=sorted_labels, digits=3)))"
   ]
  }
 ],
 "metadata": {
  "colab": {
   "name": "Copy of CRF.ipynb",
   "provenance": []
  },
  "kernelspec": {
   "display_name": "Python 3 (ipykernel)",
   "language": "python",
   "name": "python3"
  },
  "language_info": {
   "codemirror_mode": {
    "name": "ipython",
    "version": 3
   },
   "file_extension": ".py",
   "mimetype": "text/x-python",
   "name": "python",
   "nbconvert_exporter": "python",
   "pygments_lexer": "ipython3",
   "version": "3.7.9"
  }
 },
 "nbformat": 4,
 "nbformat_minor": 1
}
