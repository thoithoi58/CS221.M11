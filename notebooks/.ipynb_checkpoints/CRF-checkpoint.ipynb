{
 "cells": [
  {
   "cell_type": "code",
   "execution_count": null,
   "metadata": {
    "ExecuteTime": {
     "end_time": "2022-01-10T04:18:55.170795Z",
     "start_time": "2022-01-10T04:18:55.163243Z"
    }
   },
   "outputs": [],
   "source": [
    "from joblib import dump, load"
   ]
  },
  {
   "cell_type": "code",
   "execution_count": null,
   "metadata": {
    "ExecuteTime": {
     "end_time": "2022-01-10T04:18:55.390544Z",
     "start_time": "2022-01-10T04:18:55.386541Z"
    },
    "colab": {
     "base_uri": "https://localhost:8080/"
    },
    "id": "l0BmeopFAYha",
    "outputId": "64950a88-eb3c-4bac-ef53-c0e644c52561"
   },
   "outputs": [],
   "source": [
    "# !pip install sklearn_crfsuite\n",
    "# !pip install regex\n",
    "# !pip install -U 'scikit-learn<0.24'"
   ]
  },
  {
   "cell_type": "code",
   "execution_count": null,
   "metadata": {
    "ExecuteTime": {
     "end_time": "2022-01-10T04:18:55.702959Z",
     "start_time": "2022-01-10T04:18:55.679887Z"
    },
    "id": "-lTP5vSWAYhd"
   },
   "outputs": [],
   "source": [
    "import re\n",
    "import sklearn\n",
    "import sklearn_crfsuite\n",
    "import string\n",
    "from sklearn.metrics import accuracy_score\n",
    "from sklearn.model_selection import train_test_split\n",
    "from sklearn.metrics import accuracy_score\n",
    "from sklearn.model_selection import cross_val_score\n",
    "from sklearn_crfsuite import metrics"
   ]
  },
  {
   "cell_type": "code",
   "execution_count": null,
   "metadata": {
    "ExecuteTime": {
     "end_time": "2022-01-10T04:18:58.056545Z",
     "start_time": "2022-01-10T04:18:58.044598Z"
    },
    "id": "rxSojMFoCj8p"
   },
   "outputs": [],
   "source": [
    "def read(file):\n",
    "    with open(file, 'r', encoding='utf8') as f:\n",
    "        file = f.read().splitlines()\n",
    "    data = [[] for _ in range(len(file))]\n",
    "    for idx, i in enumerate(file):\n",
    "        a = i.split()\n",
    "        for j in a:\n",
    "            tmp = (j.rsplit('/',1))\n",
    "            data[idx].append((tmp[0], tmp[1]))\n",
    "    return data"
   ]
  },
  {
   "cell_type": "code",
   "execution_count": null,
   "metadata": {
    "ExecuteTime": {
     "end_time": "2022-01-10T04:18:58.847354Z",
     "start_time": "2022-01-10T04:18:58.834590Z"
    },
    "id": "ZHo7-81ZAYhe"
   },
   "outputs": [],
   "source": [
    "train_set = read('corpus/train.txt')\n",
    "test_set = read('corpus/test.txt')"
   ]
  },
  {
   "cell_type": "code",
   "execution_count": null,
   "metadata": {
    "ExecuteTime": {
     "end_time": "2022-01-10T04:19:03.693210Z",
     "start_time": "2022-01-10T04:19:03.668677Z"
    },
    "code_folding": [],
    "id": "6gXk5rTCAYhe"
   },
   "outputs": [],
   "source": [
    "def word2features(sent, i):\n",
    "    word = sent[i][0]\n",
    "#     postag = sent[i][1]\n",
    "    if i == 0:\n",
    "        first = True\n",
    "    else:\n",
    "        first = False\n",
    "    if i == len(sent) - 1:\n",
    "        last = True\n",
    "    else:\n",
    "        last = False\n",
    "\n",
    "    features = {\n",
    "        'word' : word,\n",
    "        'word.lower()': word.lower(),\n",
    "        'number': word.isdigit(),\n",
    "        'word.istitle()': word.istitle(),\n",
    "        'word.isupper()': word.isupper(),\n",
    "        'has_hyphen': '-' in word\n",
    "        'is_first': first,\n",
    "        'is_last': last\n",
    "    }\n",
    "\n",
    "    return features\n",
    "\n",
    "\n",
    "def sent2features(sent):\n",
    "    return [word2features(sent, i) for i in range(len(sent))]\n",
    "\n",
    "\n",
    "def sent2labels(sent):\n",
    "    return [word[1] for word in sent]\n",
    "\n",
    "\n",
    "def sent2tokens(sent):\n",
    "    return [word[0] for word in sent]"
   ]
  },
  {
   "cell_type": "code",
   "execution_count": null,
   "metadata": {
    "ExecuteTime": {
     "end_time": "2022-01-10T04:19:04.566992Z",
     "start_time": "2022-01-10T04:19:04.550803Z"
    },
    "colab": {
     "base_uri": "https://localhost:8080/"
    },
    "id": "LHKTIgqAAYhg",
    "outputId": "29aceecc-c73f-4aef-837b-d2c75635ab88",
    "scrolled": true
   },
   "outputs": [],
   "source": [
    "X_train = [sent2features(s) for s in train_set]\n",
    "y_train = [sent2labels(s) for s in train_set]\n",
    "\n",
    "X_test = [sent2features(s) for s in test_set]\n",
    "y_test = [sent2labels(s) for s in test_set]"
   ]
  },
  {
   "cell_type": "code",
   "execution_count": null,
   "metadata": {
    "ExecuteTime": {
     "end_time": "2022-01-10T04:19:05.645910Z",
     "start_time": "2022-01-10T04:19:05.634631Z"
    }
   },
   "outputs": [],
   "source": [
    "def word2featuress(sent, i):\n",
    "    word = sent[i]\n",
    "#     postag = sent[i][1]\n",
    "    if i == 0:\n",
    "        first = True\n",
    "    else:\n",
    "        first = False\n",
    "    if i == len(sent) - 1:\n",
    "        last = True\n",
    "    else:\n",
    "        last = False\n",
    "\n",
    "    features = {\n",
    "        'word' : word,\n",
    "        'word.lower()': word.lower(),\n",
    "        'number': word.isdigit(),\n",
    "        'word.istitle()': word.istitle(),\n",
    "        'word.isupper()': word.isupper(),\n",
    "        'first': first,\n",
    "        'last': last\n",
    "    }\n",
    "\n",
    "    return features"
   ]
  },
  {
   "cell_type": "code",
   "execution_count": null,
   "metadata": {
    "ExecuteTime": {
     "end_time": "2022-01-10T03:59:43.758939Z",
     "start_time": "2022-01-10T03:59:43.751704Z"
    }
   },
   "outputs": [],
   "source": [
    "k = [word2featuress(a,i) for i,s in enumerate(a)]"
   ]
  },
  {
   "cell_type": "code",
   "execution_count": null,
   "metadata": {
    "ExecuteTime": {
     "end_time": "2022-01-10T03:59:44.226102Z",
     "start_time": "2022-01-10T03:59:44.210111Z"
    }
   },
   "outputs": [],
   "source": [
    "k"
   ]
  },
  {
   "cell_type": "code",
   "execution_count": null,
   "metadata": {
    "ExecuteTime": {
     "end_time": "2022-01-10T04:19:15.703393Z",
     "start_time": "2022-01-10T04:19:15.695385Z"
    }
   },
   "outputs": [],
   "source": [
    "crf = sklearn_crfsuite.CRF(\n",
    "    algorithm='lbfgs', \n",
    "    c1=0.1,\n",
    "    c2=0.1,\n",
    ")"
   ]
  },
  {
   "cell_type": "code",
   "execution_count": null,
   "metadata": {
    "ExecuteTime": {
     "end_time": "2022-01-10T04:19:16.728981Z",
     "start_time": "2022-01-10T04:19:16.326162Z"
    },
    "scrolled": true
   },
   "outputs": [],
   "source": [
    "crf.fit(X_train, y_train)"
   ]
  },
  {
   "cell_type": "code",
   "execution_count": null,
   "metadata": {
    "ExecuteTime": {
     "end_time": "2022-01-10T04:19:28.704854Z",
     "start_time": "2022-01-10T04:19:28.667520Z"
    }
   },
   "outputs": [],
   "source": [
    "dump(crf,'crf.joblib')"
   ]
  },
  {
   "cell_type": "code",
   "execution_count": null,
   "metadata": {
    "ExecuteTime": {
     "end_time": "2022-01-10T04:17:00.852483Z",
     "start_time": "2022-01-10T04:17:00.836943Z"
    }
   },
   "outputs": [],
   "source": [
    "y__ = crf.predict([k])"
   ]
  },
  {
   "cell_type": "code",
   "execution_count": null,
   "metadata": {
    "ExecuteTime": {
     "end_time": "2022-01-10T04:17:01.449550Z",
     "start_time": "2022-01-10T04:17:01.426652Z"
    },
    "scrolled": false
   },
   "outputs": [],
   "source": [
    "y__"
   ]
  },
  {
   "cell_type": "code",
   "execution_count": null,
   "metadata": {
    "ExecuteTime": {
     "end_time": "2022-01-10T04:07:02.821051Z",
     "start_time": "2022-01-10T04:07:02.755689Z"
    }
   },
   "outputs": [],
   "source": [
    "#obtaining metrics such as accuracy, etc. on the train set\n",
    "labels = list(crf.classes_)\n",
    "labels.remove('X')\n",
    "\n",
    "ypred = crf.predict(X_train)\n",
    "print('F1 score on the train set = {}\\n'.format(metrics.flat_f1_score(y_train, ypred, average='weighted', labels=labels)))\n",
    "print('Accuracy on the train set = {}\\n'.format(metrics.flat_accuracy_score(y_train, ypred)))\n",
    "\n",
    "sorted_labels = sorted(\n",
    "    labels,\n",
    "    key=lambda name: (name[1:], name[0])\n",
    ")"
   ]
  },
  {
   "cell_type": "code",
   "execution_count": null,
   "metadata": {
    "ExecuteTime": {
     "end_time": "2022-01-10T04:07:03.300594Z",
     "start_time": "2022-01-10T04:07:03.226834Z"
    },
    "scrolled": false
   },
   "outputs": [],
   "source": [
    "print('Train set classification report: \\n\\n{}'.format(metrics.flat_classification_report(\n",
    "y_train, ypred, labels=sorted_labels, digits=3\n",
    ")))\n",
    "#obtaining metrics such as accuracy, etc. on the test set\n",
    "ypred = crf.predict(X_test)\n",
    "print('F1 score on the test set = {}\\n'.format(metrics.flat_f1_score(y_test, ypred,\n",
    "average='weighted', labels=labels)))\n",
    "print('Accuracy on the test set = {}\\n'.format(metrics.flat_accuracy_score(y_test, ypred)))\n",
    "\n",
    "sorted_labels = sorted(\n",
    "    labels,\n",
    "    key=lambda name: (name[1:], name[0])\n",
    ")\n",
    "# print('Test set classification report: \\n\\n{}'.format(metrics.flat_classification_report(y_test, ypred, labels=sorted_labels, digits=3)))"
   ]
  },
  {
   "cell_type": "code",
   "execution_count": null,
   "metadata": {},
   "outputs": [],
   "source": []
  }
 ],
 "metadata": {
  "colab": {
   "name": "Copy of CRF.ipynb",
   "provenance": []
  },
  "kernelspec": {
   "display_name": "Python 3 (ipykernel)",
   "language": "python",
   "name": "python3"
  },
  "language_info": {
   "codemirror_mode": {
    "name": "ipython",
    "version": 3
   },
   "file_extension": ".py",
   "mimetype": "text/x-python",
   "name": "python",
   "nbconvert_exporter": "python",
   "pygments_lexer": "ipython3",
   "version": "3.7.9"
  }
 },
 "nbformat": 4,
 "nbformat_minor": 1
}
