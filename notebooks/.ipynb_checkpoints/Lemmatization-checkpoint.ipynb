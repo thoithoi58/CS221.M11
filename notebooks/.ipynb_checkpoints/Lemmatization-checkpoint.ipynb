{
 "cells": [
  {
   "cell_type": "markdown",
   "id": "85ba2a57",
   "metadata": {},
   "source": [
    "# Import libraries"
   ]
  },
  {
   "cell_type": "code",
   "execution_count": 1,
   "id": "4098c127",
   "metadata": {
    "ExecuteTime": {
     "end_time": "2022-01-21T15:10:46.924274Z",
     "start_time": "2022-01-21T15:10:45.968007Z"
    }
   },
   "outputs": [],
   "source": [
    "import re\n",
    "import pandas as pd\n",
    "import pickle"
   ]
  },
  {
   "cell_type": "markdown",
   "id": "ebe9b43c",
   "metadata": {},
   "source": [
    "# Convert the C5 tagset to our tagset"
   ]
  },
  {
   "cell_type": "code",
   "execution_count": 2,
   "id": "0cd52b9e",
   "metadata": {
    "ExecuteTime": {
     "end_time": "2022-01-21T15:10:46.955842Z",
     "start_time": "2022-01-21T15:10:46.928248Z"
    },
    "code_folding": [
     0
    ]
   },
   "outputs": [],
   "source": [
    "def bnc_to_ud(tag):\n",
    "    if \"AJ\" in tag:\n",
    "        return \"ADJ\"\n",
    "    if tag == \"AT0\":\n",
    "        return \"DET\"\n",
    "    if \"AV\" in tag:\n",
    "        return \"ADV\"\n",
    "    if tag == \"CJC\":\n",
    "        return \"CCONJ\"\n",
    "    if tag in [\"CJS\", \"CJT\"]:\n",
    "        return \"SCONJ\"\n",
    "    if tag in [\"CRD\", \"ORD\"]:\n",
    "        return \"NUM\"\n",
    "    if tag == \"DPS\":\n",
    "        return \"PRON\"\n",
    "    if tag in [\"DT0\", \"DTQ\"]:\n",
    "        return \"DET\"\n",
    "    if tag == \"EX0\":\n",
    "        return \"PRON\"\n",
    "    if tag == \"ITJ\":\n",
    "        return \"INTJ\"\n",
    "    if tag in [\"NN0\",\"NN1\",\"NN2\"]:\n",
    "        return \"NOUN\"\n",
    "    if tag == \"NPO\":\n",
    "        return \"PROPN\"\n",
    "    if \"PN\" in tag:\n",
    "        return \"PRON\"\n",
    "    if tag in [\"POS\",\"TO0\",\"XX0\",\"ZZ0\"]:\n",
    "        return \"PART\"\n",
    "    if \"PR\" in tag:\n",
    "        return \"ADP\"\n",
    "    if \"PU\" in tag:\n",
    "        return \"PUNCT\"\n",
    "    if tag == \"UNC\":\n",
    "        return \"NOUN\"\n",
    "    if tag.startswith(\"V\"):\n",
    "        if tag[1] != \"V\":\n",
    "            return \"AUX\"\n",
    "        else:\n",
    "            return \"VERB\""
   ]
  },
  {
   "cell_type": "code",
   "execution_count": 3,
   "id": "f5a3eb64",
   "metadata": {
    "ExecuteTime": {
     "end_time": "2022-01-21T15:10:46.987842Z",
     "start_time": "2022-01-21T15:10:46.959848Z"
    },
    "code_folding": [
     0
    ]
   },
   "outputs": [],
   "source": [
    "with open(\"../corpus/BNClemma10_3_with_c5.txt\", 'r', encoding='utf-8') as file:\n",
    "    lines = file.read().splitlines()"
   ]
  },
  {
   "cell_type": "code",
   "execution_count": 4,
   "id": "ba8f98e9",
   "metadata": {
    "ExecuteTime": {
     "end_time": "2022-01-21T15:10:47.003843Z",
     "start_time": "2022-01-21T15:10:46.992850Z"
    }
   },
   "outputs": [],
   "source": [
    "word_lemma_dict = {}"
   ]
  },
  {
   "cell_type": "code",
   "execution_count": 5,
   "id": "5121ed54",
   "metadata": {
    "ExecuteTime": {
     "end_time": "2022-01-21T15:10:47.226843Z",
     "start_time": "2022-01-21T15:10:47.055844Z"
    },
    "code_folding": [
     0
    ]
   },
   "outputs": [],
   "source": [
    "for line in lines:\n",
    "    parts = line.split(\"->\")\n",
    "    if len(parts) <2:\n",
    "        continue\n",
    "    lemma = parts[0].strip().lower()\n",
    "    forms = parts[1].split(\",\")\n",
    "    for form in forms:\n",
    "        data = form.split(\">\")\n",
    "        tag = bnc_to_ud(data[0].replace('<','').strip())\n",
    "        word = data[1].strip().lower()\n",
    "        if word in word_lemma_dict:\n",
    "            word_lemma_dict[word][tag]=lemma\n",
    "        else:\n",
    "            word_lemma_dict[word]={tag:lemma}"
   ]
  },
  {
   "cell_type": "code",
   "execution_count": 6,
   "id": "97097c77",
   "metadata": {
    "ExecuteTime": {
     "end_time": "2022-01-21T15:10:47.257846Z",
     "start_time": "2022-01-21T15:10:47.229845Z"
    }
   },
   "outputs": [
    {
     "data": {
      "text/plain": [
       "23035"
      ]
     },
     "execution_count": 6,
     "metadata": {},
     "output_type": "execute_result"
    }
   ],
   "source": [
    "len(word_lemma_dict.keys())"
   ]
  },
  {
   "cell_type": "code",
   "execution_count": null,
   "id": "d61093a7",
   "metadata": {
    "ExecuteTime": {
     "end_time": "2022-01-17T15:08:34.601404Z",
     "start_time": "2022-01-17T15:08:34.566389Z"
    }
   },
   "outputs": [],
   "source": [
    "with open('../models/lemma_dict.pkl', 'wb') as f:\n",
    "    pickle.dump(word_lemma_dict, f)"
   ]
  },
  {
   "cell_type": "markdown",
   "id": "31add2a7",
   "metadata": {},
   "source": [
    "# Rule-based lemmatizer for plural noun cases"
   ]
  },
  {
   "cell_type": "code",
   "execution_count": 7,
   "id": "36bafdb1",
   "metadata": {
    "ExecuteTime": {
     "end_time": "2022-01-21T15:10:51.003649Z",
     "start_time": "2022-01-21T15:10:50.982497Z"
    },
    "code_folding": [
     0
    ]
   },
   "outputs": [],
   "source": [
    "def inflect_noun_singular(word):\n",
    "    irregular_dict = pickle.load(open('../models/noun_exception.pkl','rb'))\n",
    "    consonants = \"bcdfghjklmnpqrstwxyz\"\n",
    "    vowels = \"aeiou\"\n",
    "    word = str(word).lower()\n",
    "    if len(word) < 2:\n",
    "        return word\n",
    "    if word in irregular_dict:\n",
    "        return irregular_dict[word]\n",
    "    if word.endswith('s'):\n",
    "        if len(word) > 3:\n",
    "            #Leaves, wives, thieves\n",
    "            if word.endswith('ves'):\n",
    "                if len(word[:-3]) > 2:\n",
    "                    return word.replace('ves','f')\n",
    "                else:\n",
    "                    return word.replace('ves','fe')\n",
    "            #Parties, stories\n",
    "            if word.endswith('ies'):\n",
    "                return word.replace('ies','y')\n",
    "            #Tomatoes, echoes\n",
    "            if word.endswith('es'):\n",
    "                if word.endswith('ses') and word[-4] in vowels:\n",
    "                    return word[:-1]\n",
    "                if word.endswith('zzes'):\n",
    "                    return word.replace('zzes','z')\n",
    "                return word[:-2]\n",
    "            if word.endswith('ys'):\n",
    "                return word.replace('ys','y')\n",
    "            return word[:-1]\n",
    "    return word"
   ]
  },
  {
   "cell_type": "code",
   "execution_count": 8,
   "id": "6a4a8042",
   "metadata": {
    "ExecuteTime": {
     "end_time": "2022-01-21T15:10:51.945570Z",
     "start_time": "2022-01-21T15:10:51.888391Z"
    },
    "scrolled": true
   },
   "outputs": [],
   "source": [
    "dict_from_csv = pd.read_csv('../corpus/noun_exceptions.csv',index_col=1, squeeze=True).to_dict()"
   ]
  },
  {
   "cell_type": "code",
   "execution_count": null,
   "id": "f40747e7",
   "metadata": {
    "ExecuteTime": {
     "end_time": "2022-01-17T15:08:05.071658Z",
     "start_time": "2022-01-17T15:08:05.061642Z"
    }
   },
   "outputs": [],
   "source": [
    "with open('../models/noun_exception.pkl', 'wb') as f:\n",
    "    pickle.dump(dict_from_csv, f)"
   ]
  },
  {
   "cell_type": "markdown",
   "id": "5e2898e4",
   "metadata": {},
   "source": [
    "# Lemmatizer function"
   ]
  },
  {
   "cell_type": "code",
   "execution_count": 12,
   "id": "195ee70e",
   "metadata": {
    "ExecuteTime": {
     "end_time": "2022-01-21T15:11:43.645424Z",
     "start_time": "2022-01-21T15:11:43.631436Z"
    }
   },
   "outputs": [],
   "source": [
    "def lemmatize(word, pos):\n",
    "    if word in word_lemma_dict:\n",
    "        if pos in word_lemma_dict[word]:\n",
    "            return (word, word_lemma_dict[word][pos])\n",
    "    if pos == 'NOUN':\n",
    "        return (word, inflect_noun_singular(word))\n",
    "    return (word, word)"
   ]
  },
  {
   "cell_type": "code",
   "execution_count": 13,
   "id": "b95578f4",
   "metadata": {
    "ExecuteTime": {
     "end_time": "2022-01-21T15:11:44.131262Z",
     "start_time": "2022-01-21T15:11:44.120059Z"
    }
   },
   "outputs": [],
   "source": [
    "words = [('living', 'ADJ'), ('living', 'NOUN'),('living','VERB'), ('zeroes','NOUN')]"
   ]
  },
  {
   "cell_type": "code",
   "execution_count": 14,
   "id": "10a5aee4",
   "metadata": {
    "ExecuteTime": {
     "end_time": "2022-01-21T15:11:44.711673Z",
     "start_time": "2022-01-21T15:11:44.696565Z"
    }
   },
   "outputs": [
    {
     "name": "stdout",
     "output_type": "stream",
     "text": [
      "('living', 'living')\n",
      "('living', 'living')\n",
      "('living', 'live')\n",
      "('zeroes', 'zero')\n"
     ]
    }
   ],
   "source": [
    "for word_tuple in words:\n",
    "    print(lemmatize(word_tuple[0], word_tuple[1]))"
   ]
  },
  {
   "cell_type": "code",
   "execution_count": null,
   "id": "6cc076fc",
   "metadata": {},
   "outputs": [],
   "source": []
  }
 ],
 "metadata": {
  "kernelspec": {
   "display_name": "Python 3 (ipykernel)",
   "language": "python",
   "name": "python3"
  },
  "language_info": {
   "codemirror_mode": {
    "name": "ipython",
    "version": 3
   },
   "file_extension": ".py",
   "mimetype": "text/x-python",
   "name": "python",
   "nbconvert_exporter": "python",
   "pygments_lexer": "ipython3",
   "version": "3.7.9"
  }
 },
 "nbformat": 4,
 "nbformat_minor": 5
}
