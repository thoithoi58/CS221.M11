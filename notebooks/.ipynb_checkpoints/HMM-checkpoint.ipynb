{
 "cells": [
  {
   "cell_type": "markdown",
   "metadata": {},
   "source": [
    "# Data Preparation"
   ]
  },
  {
   "cell_type": "code",
   "execution_count": 1,
   "metadata": {
    "ExecuteTime": {
     "end_time": "2022-01-21T15:01:51.218462Z",
     "start_time": "2022-01-21T15:01:48.511385Z"
    },
    "code_folding": []
   },
   "outputs": [],
   "source": [
    "# Importing libraries\n",
    "import pandas as pd\n",
    "import numpy as np\n",
    "import random\n",
    "import time\n",
    "import matplotlib.pyplot as plt"
   ]
  },
  {
   "cell_type": "code",
   "execution_count": 2,
   "metadata": {
    "ExecuteTime": {
     "end_time": "2022-01-21T15:01:51.234471Z",
     "start_time": "2022-01-21T15:01:51.221474Z"
    }
   },
   "outputs": [],
   "source": [
    "#Read each line in train/test file and split word and its part-of-speech by '/' seperator\n",
    "def read(file):\n",
    "    with open(file, 'r', encoding='utf8') as f:\n",
    "        file = f.read().splitlines()\n",
    "    data = [[] for _ in range(len(file))]\n",
    "    for idx, i in enumerate(file):\n",
    "        a = i.split()\n",
    "        for j in a:\n",
    "            tmp = (j.rsplit('/',1))\n",
    "            data[idx].append((tmp[0], tmp[1]))\n",
    "    return data"
   ]
  },
  {
   "cell_type": "code",
   "execution_count": 3,
   "metadata": {
    "ExecuteTime": {
     "end_time": "2022-01-21T15:01:51.266077Z",
     "start_time": "2022-01-21T15:01:51.239477Z"
    }
   },
   "outputs": [],
   "source": [
    "#Load training corpus and testing file to memory\n",
    "train_set = read('../corpus/train.txt')\n",
    "test_set = read('../corpus/test.txt')"
   ]
  },
  {
   "cell_type": "code",
   "execution_count": 4,
   "metadata": {
    "ExecuteTime": {
     "end_time": "2022-01-21T15:01:51.282053Z",
     "start_time": "2022-01-21T15:01:51.270058Z"
    }
   },
   "outputs": [],
   "source": [
    "#Create list of train and test tagged words\n",
    "train_tagged_words = [tup for sent in train_set for tup in sent]\n",
    "test_tagged_words = [tup[0] for sent in test_set for tup in sent]"
   ]
  },
  {
   "cell_type": "code",
   "execution_count": 5,
   "metadata": {
    "ExecuteTime": {
     "end_time": "2022-01-21T15:01:51.298060Z",
     "start_time": "2022-01-21T15:01:51.286058Z"
    },
    "scrolled": false
   },
   "outputs": [
    {
     "name": "stdout",
     "output_type": "stream",
     "text": [
      "16\n",
      "{'CCONJ', 'PROPN', 'ADV', 'NOUN', 'AUX', 'X', 'PUNCT', 'DET', 'PRON', 'PART', 'NUM', 'ADP', 'SYM', 'VERB', 'SCONJ', 'ADJ'}\n"
     ]
    }
   ],
   "source": [
    "#Let's check how many unique tags are present in training data\n",
    "tags = {tag for word,tag in train_tagged_words}\n",
    "print(len(tags))\n",
    "print(tags)"
   ]
  },
  {
   "cell_type": "code",
   "execution_count": 6,
   "metadata": {
    "ExecuteTime": {
     "end_time": "2022-01-21T15:01:51.314083Z",
     "start_time": "2022-01-21T15:01:51.303060Z"
    }
   },
   "outputs": [],
   "source": [
    "unique_tags = len(tags)"
   ]
  },
  {
   "cell_type": "code",
   "execution_count": 7,
   "metadata": {
    "ExecuteTime": {
     "end_time": "2022-01-21T15:01:51.330066Z",
     "start_time": "2022-01-21T15:01:51.317055Z"
    }
   },
   "outputs": [
    {
     "name": "stdout",
     "output_type": "stream",
     "text": [
      "1004\n"
     ]
    }
   ],
   "source": [
    "#Let's check how many words are present in vocabulary\n",
    "vocab = {word for word,tag in train_tagged_words}\n",
    "print(len(vocab))"
   ]
  },
  {
   "cell_type": "markdown",
   "metadata": {},
   "source": [
    "### Visualization for number of tags in train set"
   ]
  },
  {
   "cell_type": "code",
   "execution_count": 8,
   "metadata": {
    "ExecuteTime": {
     "end_time": "2022-01-21T15:01:51.346066Z",
     "start_time": "2022-01-21T15:01:51.334066Z"
    }
   },
   "outputs": [],
   "source": [
    "# count = {i:0 for i in tags}"
   ]
  },
  {
   "cell_type": "code",
   "execution_count": 9,
   "metadata": {
    "ExecuteTime": {
     "end_time": "2022-01-21T15:01:51.362058Z",
     "start_time": "2022-01-21T15:01:51.352054Z"
    }
   },
   "outputs": [],
   "source": [
    "# for i in train_tagged_words:\n",
    "#     pos = i[1]\n",
    "#     count[pos] += 1"
   ]
  },
  {
   "cell_type": "code",
   "execution_count": 10,
   "metadata": {
    "ExecuteTime": {
     "end_time": "2022-01-21T15:01:51.377076Z",
     "start_time": "2022-01-21T15:01:51.365056Z"
    }
   },
   "outputs": [],
   "source": [
    "# plt.rcParams[\"figure.figsize\"] = (15,8)\n",
    "# plt.bar(range(len(count)), list(count.values()), align='center')\n",
    "# plt.xticks(range(len(count)), list(count.keys()))\n",
    "# plt.xticks(rotation=45)\n",
    "# plt.show()"
   ]
  },
  {
   "cell_type": "markdown",
   "metadata": {},
   "source": [
    "### POS Tagging using Hidden Markov Model (HMM)\n",
    "\n",
    "We'll use the HMM algorithm to tag the words. Given a sequence of words to be tagged, the task is to assign the most probable tag to the word. \n",
    "In other words, to every **word w**, assign **the tag t** that maximises the likelihood **$P(t|w)$**. \n",
    "\n",
    "Since $$P(t|w) = {{P(w|t)*P(t)} \\over {P(w)}}$$ \n",
    "After ignoring $P(w)$, we have to compute $P(w|t)$ and $P(t)$.\n",
    "\n",
    "Now:\n",
    "* **$P(w|t)$: is the emission probability** of a given word for a given tag. This can be computed based on the fraction of given word for given tag to the total count of that tag, ie: $$P(w|t) = count(w, t) \\over count(t)$$. However, if the training data is small and not cover enough cases, the emission probability can lead to zero. Therefore we need to use a method called **Laplace smoothing** which adds a value to the numerator to prevent zero probability. The equation above can be written:\n",
    "$$P(w|t) = count(w, t) + 1 \\over count(t)+ N$$  which N is the number of unique tags in training data\n",
    "\n",
    "\n",
    "\n",
    "* **$P(t)$: is the probability of tag (also transition probability)**, and in a tagging task, we assume that a tag will depend only on the previous tag (Markov order 1 assumption). In other words, the probability of say a tag being NOUN will depend only on the previous tag $t(n-1)$. So for e.g. if $t(n-1)$ is a ADJ, then $t(n)$ is likely to be an NOUN since adjectives often precede a noun (blue coat, tall building etc.).\n",
    "\n"
   ]
  },
  {
   "cell_type": "markdown",
   "metadata": {},
   "source": [
    "# Build the Viterbi POS tagger"
   ]
  },
  {
   "cell_type": "markdown",
   "metadata": {},
   "source": [
    "#### Function to compute emission probabilties for a given word"
   ]
  },
  {
   "cell_type": "code",
   "execution_count": 11,
   "metadata": {
    "ExecuteTime": {
     "end_time": "2022-01-21T15:01:51.393063Z",
     "start_time": "2022-01-21T15:01:51.380060Z"
    }
   },
   "outputs": [],
   "source": [
    "#Compute emission probability for a given word for a given tag\n",
    "def word_given_tag(word, tag, train_bag=train_tagged_words):\n",
    "    taglist = [pair for pair in train_bag if pair[1] == tag]\n",
    "    #Use laplace smoothing to prevent zero probability\n",
    "    tag_count = len(taglist) + len(vocab)\n",
    "    w_in_tag = [pair[0] for pair in taglist if pair[0] == word]\n",
    "    word_count_given_tag = len(w_in_tag) + 1\n",
    "    return (word_count_given_tag, tag_count)"
   ]
  },
  {
   "cell_type": "markdown",
   "metadata": {},
   "source": [
    "#### Function to compute transition probabilties for a given tag and previous tag"
   ]
  },
  {
   "cell_type": "code",
   "execution_count": 12,
   "metadata": {
    "ExecuteTime": {
     "end_time": "2022-01-21T15:01:51.409059Z",
     "start_time": "2022-01-21T15:01:51.396064Z"
    }
   },
   "outputs": [],
   "source": [
    "#Compute transition probabilities of a previous and next tag\n",
    "def t2_given_t1(t2,t1,train_bag=train_tagged_words):\n",
    "    tags = [pair[1] for pair in train_bag]\n",
    "    t1_tags = [tag for tag in tags if tag==t1]  \n",
    "    count_of_t1 = len(t1_tags) + unique_tags \n",
    "    t2_given_t1 = [tags[index+1] for index in range(len(tags)-1) if tags[index] == t1 and tags[index+1] == t2] \n",
    "    count_t2_given_t1 = len(t2_given_t1) + 1  \n",
    "    return(count_t2_given_t1,count_of_t1)"
   ]
  },
  {
   "cell_type": "code",
   "execution_count": 13,
   "metadata": {
    "ExecuteTime": {
     "end_time": "2022-01-21T15:01:51.818225Z",
     "start_time": "2022-01-21T15:01:51.413057Z"
    }
   },
   "outputs": [],
   "source": [
    "# creating t x t transition matrix of tags\n",
    "# each column is t2, each row is t1\n",
    "# thus M(i, j) represents P(tj given ti)\n",
    "tags_matrix = np.zeros((len(tags), len(tags)), dtype='float32')\n",
    "for i, t1 in enumerate(list(tags)):\n",
    "    for j, t2 in enumerate(list(tags)): \n",
    "        tags_matrix[i, j] = t2_given_t1(t2, t1)[0]/t2_given_t1(t2, t1)[1]"
   ]
  },
  {
   "cell_type": "code",
   "execution_count": 14,
   "metadata": {
    "ExecuteTime": {
     "end_time": "2022-01-21T15:01:51.833737Z",
     "start_time": "2022-01-21T15:01:51.822174Z"
    }
   },
   "outputs": [],
   "source": [
    "# convert the matrix to a df for better readability\n",
    "tags_df = pd.DataFrame(tags_matrix, columns = list(tags), index=list(tags))"
   ]
  },
  {
   "cell_type": "code",
   "execution_count": 15,
   "metadata": {
    "ExecuteTime": {
     "end_time": "2022-01-21T15:01:51.897077Z",
     "start_time": "2022-01-21T15:01:51.838072Z"
    },
    "scrolled": true
   },
   "outputs": [
    {
     "data": {
      "text/html": [
       "<div>\n",
       "<style scoped>\n",
       "    .dataframe tbody tr th:only-of-type {\n",
       "        vertical-align: middle;\n",
       "    }\n",
       "\n",
       "    .dataframe tbody tr th {\n",
       "        vertical-align: top;\n",
       "    }\n",
       "\n",
       "    .dataframe thead th {\n",
       "        text-align: right;\n",
       "    }\n",
       "</style>\n",
       "<table border=\"1\" class=\"dataframe\">\n",
       "  <thead>\n",
       "    <tr style=\"text-align: right;\">\n",
       "      <th></th>\n",
       "      <th>CCONJ</th>\n",
       "      <th>PROPN</th>\n",
       "      <th>ADV</th>\n",
       "      <th>NOUN</th>\n",
       "      <th>AUX</th>\n",
       "      <th>X</th>\n",
       "      <th>PUNCT</th>\n",
       "      <th>DET</th>\n",
       "      <th>PRON</th>\n",
       "      <th>PART</th>\n",
       "      <th>NUM</th>\n",
       "      <th>ADP</th>\n",
       "      <th>SYM</th>\n",
       "      <th>VERB</th>\n",
       "      <th>SCONJ</th>\n",
       "      <th>ADJ</th>\n",
       "    </tr>\n",
       "  </thead>\n",
       "  <tbody>\n",
       "    <tr>\n",
       "      <th>CCONJ</th>\n",
       "      <td>0.011494</td>\n",
       "      <td>0.137931</td>\n",
       "      <td>0.080460</td>\n",
       "      <td>0.149425</td>\n",
       "      <td>0.057471</td>\n",
       "      <td>0.011494</td>\n",
       "      <td>0.057471</td>\n",
       "      <td>0.091954</td>\n",
       "      <td>0.068966</td>\n",
       "      <td>0.011494</td>\n",
       "      <td>0.022989</td>\n",
       "      <td>0.045977</td>\n",
       "      <td>0.011494</td>\n",
       "      <td>0.114943</td>\n",
       "      <td>0.022989</td>\n",
       "      <td>0.103448</td>\n",
       "    </tr>\n",
       "    <tr>\n",
       "      <th>PROPN</th>\n",
       "      <td>0.066667</td>\n",
       "      <td>0.193939</td>\n",
       "      <td>0.006061</td>\n",
       "      <td>0.127273</td>\n",
       "      <td>0.018182</td>\n",
       "      <td>0.006061</td>\n",
       "      <td>0.260606</td>\n",
       "      <td>0.024242</td>\n",
       "      <td>0.006061</td>\n",
       "      <td>0.054545</td>\n",
       "      <td>0.096970</td>\n",
       "      <td>0.066667</td>\n",
       "      <td>0.018182</td>\n",
       "      <td>0.024242</td>\n",
       "      <td>0.006061</td>\n",
       "      <td>0.024242</td>\n",
       "    </tr>\n",
       "    <tr>\n",
       "      <th>ADV</th>\n",
       "      <td>0.017442</td>\n",
       "      <td>0.011628</td>\n",
       "      <td>0.063953</td>\n",
       "      <td>0.034884</td>\n",
       "      <td>0.029070</td>\n",
       "      <td>0.005814</td>\n",
       "      <td>0.238372</td>\n",
       "      <td>0.040698</td>\n",
       "      <td>0.040698</td>\n",
       "      <td>0.005814</td>\n",
       "      <td>0.005814</td>\n",
       "      <td>0.063953</td>\n",
       "      <td>0.005814</td>\n",
       "      <td>0.273256</td>\n",
       "      <td>0.040698</td>\n",
       "      <td>0.122093</td>\n",
       "    </tr>\n",
       "    <tr>\n",
       "      <th>NOUN</th>\n",
       "      <td>0.050373</td>\n",
       "      <td>0.018657</td>\n",
       "      <td>0.031716</td>\n",
       "      <td>0.166045</td>\n",
       "      <td>0.061567</td>\n",
       "      <td>0.001866</td>\n",
       "      <td>0.276119</td>\n",
       "      <td>0.018657</td>\n",
       "      <td>0.031716</td>\n",
       "      <td>0.022388</td>\n",
       "      <td>0.003731</td>\n",
       "      <td>0.194030</td>\n",
       "      <td>0.001866</td>\n",
       "      <td>0.104478</td>\n",
       "      <td>0.011194</td>\n",
       "      <td>0.005597</td>\n",
       "    </tr>\n",
       "    <tr>\n",
       "      <th>AUX</th>\n",
       "      <td>0.015873</td>\n",
       "      <td>0.015873</td>\n",
       "      <td>0.103175</td>\n",
       "      <td>0.031746</td>\n",
       "      <td>0.039683</td>\n",
       "      <td>0.007937</td>\n",
       "      <td>0.047619</td>\n",
       "      <td>0.111111</td>\n",
       "      <td>0.071429</td>\n",
       "      <td>0.063492</td>\n",
       "      <td>0.023810</td>\n",
       "      <td>0.031746</td>\n",
       "      <td>0.007937</td>\n",
       "      <td>0.285714</td>\n",
       "      <td>0.007937</td>\n",
       "      <td>0.134921</td>\n",
       "    </tr>\n",
       "    <tr>\n",
       "      <th>X</th>\n",
       "      <td>0.050000</td>\n",
       "      <td>0.050000</td>\n",
       "      <td>0.050000</td>\n",
       "      <td>0.100000</td>\n",
       "      <td>0.050000</td>\n",
       "      <td>0.050000</td>\n",
       "      <td>0.200000</td>\n",
       "      <td>0.050000</td>\n",
       "      <td>0.050000</td>\n",
       "      <td>0.050000</td>\n",
       "      <td>0.050000</td>\n",
       "      <td>0.050000</td>\n",
       "      <td>0.050000</td>\n",
       "      <td>0.050000</td>\n",
       "      <td>0.050000</td>\n",
       "      <td>0.050000</td>\n",
       "    </tr>\n",
       "    <tr>\n",
       "      <th>PUNCT</th>\n",
       "      <td>0.072193</td>\n",
       "      <td>0.101604</td>\n",
       "      <td>0.090909</td>\n",
       "      <td>0.050802</td>\n",
       "      <td>0.032086</td>\n",
       "      <td>0.010695</td>\n",
       "      <td>0.101604</td>\n",
       "      <td>0.106952</td>\n",
       "      <td>0.152406</td>\n",
       "      <td>0.002674</td>\n",
       "      <td>0.010695</td>\n",
       "      <td>0.090909</td>\n",
       "      <td>0.002674</td>\n",
       "      <td>0.088235</td>\n",
       "      <td>0.053476</td>\n",
       "      <td>0.029412</td>\n",
       "    </tr>\n",
       "    <tr>\n",
       "      <th>DET</th>\n",
       "      <td>0.003521</td>\n",
       "      <td>0.080986</td>\n",
       "      <td>0.070423</td>\n",
       "      <td>0.482394</td>\n",
       "      <td>0.021127</td>\n",
       "      <td>0.003521</td>\n",
       "      <td>0.003521</td>\n",
       "      <td>0.017606</td>\n",
       "      <td>0.028169</td>\n",
       "      <td>0.003521</td>\n",
       "      <td>0.007042</td>\n",
       "      <td>0.007042</td>\n",
       "      <td>0.003521</td>\n",
       "      <td>0.042254</td>\n",
       "      <td>0.003521</td>\n",
       "      <td>0.221831</td>\n",
       "    </tr>\n",
       "    <tr>\n",
       "      <th>PRON</th>\n",
       "      <td>0.005376</td>\n",
       "      <td>0.005376</td>\n",
       "      <td>0.086022</td>\n",
       "      <td>0.086022</td>\n",
       "      <td>0.215054</td>\n",
       "      <td>0.005376</td>\n",
       "      <td>0.075269</td>\n",
       "      <td>0.021505</td>\n",
       "      <td>0.048387</td>\n",
       "      <td>0.005376</td>\n",
       "      <td>0.005376</td>\n",
       "      <td>0.053763</td>\n",
       "      <td>0.005376</td>\n",
       "      <td>0.338710</td>\n",
       "      <td>0.010753</td>\n",
       "      <td>0.032258</td>\n",
       "    </tr>\n",
       "    <tr>\n",
       "      <th>PART</th>\n",
       "      <td>0.023810</td>\n",
       "      <td>0.047619</td>\n",
       "      <td>0.071429</td>\n",
       "      <td>0.404762</td>\n",
       "      <td>0.047619</td>\n",
       "      <td>0.023810</td>\n",
       "      <td>0.023810</td>\n",
       "      <td>0.023810</td>\n",
       "      <td>0.023810</td>\n",
       "      <td>0.023810</td>\n",
       "      <td>0.047619</td>\n",
       "      <td>0.023810</td>\n",
       "      <td>0.023810</td>\n",
       "      <td>0.119048</td>\n",
       "      <td>0.023810</td>\n",
       "      <td>0.047619</td>\n",
       "    </tr>\n",
       "    <tr>\n",
       "      <th>NUM</th>\n",
       "      <td>0.038462</td>\n",
       "      <td>0.038462</td>\n",
       "      <td>0.019231</td>\n",
       "      <td>0.153846</td>\n",
       "      <td>0.019231</td>\n",
       "      <td>0.019231</td>\n",
       "      <td>0.442308</td>\n",
       "      <td>0.019231</td>\n",
       "      <td>0.019231</td>\n",
       "      <td>0.019231</td>\n",
       "      <td>0.019231</td>\n",
       "      <td>0.057692</td>\n",
       "      <td>0.019231</td>\n",
       "      <td>0.019231</td>\n",
       "      <td>0.019231</td>\n",
       "      <td>0.076923</td>\n",
       "    </tr>\n",
       "    <tr>\n",
       "      <th>ADP</th>\n",
       "      <td>0.003390</td>\n",
       "      <td>0.091525</td>\n",
       "      <td>0.033898</td>\n",
       "      <td>0.118644</td>\n",
       "      <td>0.016949</td>\n",
       "      <td>0.006780</td>\n",
       "      <td>0.016949</td>\n",
       "      <td>0.413559</td>\n",
       "      <td>0.050847</td>\n",
       "      <td>0.003390</td>\n",
       "      <td>0.030508</td>\n",
       "      <td>0.016949</td>\n",
       "      <td>0.003390</td>\n",
       "      <td>0.115254</td>\n",
       "      <td>0.003390</td>\n",
       "      <td>0.074576</td>\n",
       "    </tr>\n",
       "    <tr>\n",
       "      <th>SYM</th>\n",
       "      <td>0.055556</td>\n",
       "      <td>0.111111</td>\n",
       "      <td>0.055556</td>\n",
       "      <td>0.111111</td>\n",
       "      <td>0.055556</td>\n",
       "      <td>0.055556</td>\n",
       "      <td>0.055556</td>\n",
       "      <td>0.055556</td>\n",
       "      <td>0.055556</td>\n",
       "      <td>0.055556</td>\n",
       "      <td>0.055556</td>\n",
       "      <td>0.055556</td>\n",
       "      <td>0.055556</td>\n",
       "      <td>0.055556</td>\n",
       "      <td>0.055556</td>\n",
       "      <td>0.055556</td>\n",
       "    </tr>\n",
       "    <tr>\n",
       "      <th>VERB</th>\n",
       "      <td>0.006289</td>\n",
       "      <td>0.012579</td>\n",
       "      <td>0.103774</td>\n",
       "      <td>0.128931</td>\n",
       "      <td>0.003145</td>\n",
       "      <td>0.003145</td>\n",
       "      <td>0.069182</td>\n",
       "      <td>0.166667</td>\n",
       "      <td>0.110063</td>\n",
       "      <td>0.003145</td>\n",
       "      <td>0.003145</td>\n",
       "      <td>0.257862</td>\n",
       "      <td>0.003145</td>\n",
       "      <td>0.028302</td>\n",
       "      <td>0.040881</td>\n",
       "      <td>0.059748</td>\n",
       "    </tr>\n",
       "    <tr>\n",
       "      <th>SCONJ</th>\n",
       "      <td>0.014925</td>\n",
       "      <td>0.029851</td>\n",
       "      <td>0.014925</td>\n",
       "      <td>0.119403</td>\n",
       "      <td>0.044776</td>\n",
       "      <td>0.014925</td>\n",
       "      <td>0.059701</td>\n",
       "      <td>0.164179</td>\n",
       "      <td>0.253731</td>\n",
       "      <td>0.014925</td>\n",
       "      <td>0.014925</td>\n",
       "      <td>0.044776</td>\n",
       "      <td>0.014925</td>\n",
       "      <td>0.044776</td>\n",
       "      <td>0.074627</td>\n",
       "      <td>0.074627</td>\n",
       "    </tr>\n",
       "    <tr>\n",
       "      <th>ADJ</th>\n",
       "      <td>0.025381</td>\n",
       "      <td>0.020305</td>\n",
       "      <td>0.015228</td>\n",
       "      <td>0.598985</td>\n",
       "      <td>0.015228</td>\n",
       "      <td>0.005076</td>\n",
       "      <td>0.091371</td>\n",
       "      <td>0.010152</td>\n",
       "      <td>0.005076</td>\n",
       "      <td>0.005076</td>\n",
       "      <td>0.025381</td>\n",
       "      <td>0.096447</td>\n",
       "      <td>0.005076</td>\n",
       "      <td>0.015228</td>\n",
       "      <td>0.020305</td>\n",
       "      <td>0.045685</td>\n",
       "    </tr>\n",
       "  </tbody>\n",
       "</table>\n",
       "</div>"
      ],
      "text/plain": [
       "          CCONJ     PROPN       ADV      NOUN       AUX         X     PUNCT  \\\n",
       "CCONJ  0.011494  0.137931  0.080460  0.149425  0.057471  0.011494  0.057471   \n",
       "PROPN  0.066667  0.193939  0.006061  0.127273  0.018182  0.006061  0.260606   \n",
       "ADV    0.017442  0.011628  0.063953  0.034884  0.029070  0.005814  0.238372   \n",
       "NOUN   0.050373  0.018657  0.031716  0.166045  0.061567  0.001866  0.276119   \n",
       "AUX    0.015873  0.015873  0.103175  0.031746  0.039683  0.007937  0.047619   \n",
       "X      0.050000  0.050000  0.050000  0.100000  0.050000  0.050000  0.200000   \n",
       "PUNCT  0.072193  0.101604  0.090909  0.050802  0.032086  0.010695  0.101604   \n",
       "DET    0.003521  0.080986  0.070423  0.482394  0.021127  0.003521  0.003521   \n",
       "PRON   0.005376  0.005376  0.086022  0.086022  0.215054  0.005376  0.075269   \n",
       "PART   0.023810  0.047619  0.071429  0.404762  0.047619  0.023810  0.023810   \n",
       "NUM    0.038462  0.038462  0.019231  0.153846  0.019231  0.019231  0.442308   \n",
       "ADP    0.003390  0.091525  0.033898  0.118644  0.016949  0.006780  0.016949   \n",
       "SYM    0.055556  0.111111  0.055556  0.111111  0.055556  0.055556  0.055556   \n",
       "VERB   0.006289  0.012579  0.103774  0.128931  0.003145  0.003145  0.069182   \n",
       "SCONJ  0.014925  0.029851  0.014925  0.119403  0.044776  0.014925  0.059701   \n",
       "ADJ    0.025381  0.020305  0.015228  0.598985  0.015228  0.005076  0.091371   \n",
       "\n",
       "            DET      PRON      PART       NUM       ADP       SYM      VERB  \\\n",
       "CCONJ  0.091954  0.068966  0.011494  0.022989  0.045977  0.011494  0.114943   \n",
       "PROPN  0.024242  0.006061  0.054545  0.096970  0.066667  0.018182  0.024242   \n",
       "ADV    0.040698  0.040698  0.005814  0.005814  0.063953  0.005814  0.273256   \n",
       "NOUN   0.018657  0.031716  0.022388  0.003731  0.194030  0.001866  0.104478   \n",
       "AUX    0.111111  0.071429  0.063492  0.023810  0.031746  0.007937  0.285714   \n",
       "X      0.050000  0.050000  0.050000  0.050000  0.050000  0.050000  0.050000   \n",
       "PUNCT  0.106952  0.152406  0.002674  0.010695  0.090909  0.002674  0.088235   \n",
       "DET    0.017606  0.028169  0.003521  0.007042  0.007042  0.003521  0.042254   \n",
       "PRON   0.021505  0.048387  0.005376  0.005376  0.053763  0.005376  0.338710   \n",
       "PART   0.023810  0.023810  0.023810  0.047619  0.023810  0.023810  0.119048   \n",
       "NUM    0.019231  0.019231  0.019231  0.019231  0.057692  0.019231  0.019231   \n",
       "ADP    0.413559  0.050847  0.003390  0.030508  0.016949  0.003390  0.115254   \n",
       "SYM    0.055556  0.055556  0.055556  0.055556  0.055556  0.055556  0.055556   \n",
       "VERB   0.166667  0.110063  0.003145  0.003145  0.257862  0.003145  0.028302   \n",
       "SCONJ  0.164179  0.253731  0.014925  0.014925  0.044776  0.014925  0.044776   \n",
       "ADJ    0.010152  0.005076  0.005076  0.025381  0.096447  0.005076  0.015228   \n",
       "\n",
       "          SCONJ       ADJ  \n",
       "CCONJ  0.022989  0.103448  \n",
       "PROPN  0.006061  0.024242  \n",
       "ADV    0.040698  0.122093  \n",
       "NOUN   0.011194  0.005597  \n",
       "AUX    0.007937  0.134921  \n",
       "X      0.050000  0.050000  \n",
       "PUNCT  0.053476  0.029412  \n",
       "DET    0.003521  0.221831  \n",
       "PRON   0.010753  0.032258  \n",
       "PART   0.023810  0.047619  \n",
       "NUM    0.019231  0.076923  \n",
       "ADP    0.003390  0.074576  \n",
       "SYM    0.055556  0.055556  \n",
       "VERB   0.040881  0.059748  \n",
       "SCONJ  0.074627  0.074627  \n",
       "ADJ    0.020305  0.045685  "
      ]
     },
     "execution_count": 15,
     "metadata": {},
     "output_type": "execute_result"
    }
   ],
   "source": [
    "tags_df"
   ]
  },
  {
   "cell_type": "code",
   "execution_count": 16,
   "metadata": {
    "ExecuteTime": {
     "end_time": "2022-01-21T15:01:52.071062Z",
     "start_time": "2022-01-21T15:01:51.901072Z"
    }
   },
   "outputs": [],
   "source": [
    "emission_matrix = np.zeros((len(tags), len(vocab)), dtype='float32')\n",
    "for i, t1 in enumerate(list(tags)):\n",
    "    for j, t2 in enumerate(list(tags)): \n",
    "        emission_matrix[i, j] = word_given_tag(t2, t1)[0]/word_given_tag(t2, t1)[1]"
   ]
  },
  {
   "cell_type": "code",
   "execution_count": 17,
   "metadata": {
    "ExecuteTime": {
     "end_time": "2022-01-21T15:01:52.087093Z",
     "start_time": "2022-01-21T15:01:52.075073Z"
    }
   },
   "outputs": [],
   "source": [
    "emission_matrix = pd.DataFrame(emission_matrix, columns = list(vocab), index=list(tags))"
   ]
  },
  {
   "cell_type": "code",
   "execution_count": 18,
   "metadata": {
    "ExecuteTime": {
     "end_time": "2022-01-21T15:01:52.181071Z",
     "start_time": "2022-01-21T15:01:52.090078Z"
    }
   },
   "outputs": [
    {
     "data": {
      "text/html": [
       "<div>\n",
       "<style scoped>\n",
       "    .dataframe tbody tr th:only-of-type {\n",
       "        vertical-align: middle;\n",
       "    }\n",
       "\n",
       "    .dataframe tbody tr th {\n",
       "        vertical-align: top;\n",
       "    }\n",
       "\n",
       "    .dataframe thead th {\n",
       "        text-align: right;\n",
       "    }\n",
       "</style>\n",
       "<table border=\"1\" class=\"dataframe\">\n",
       "  <thead>\n",
       "    <tr style=\"text-align: right;\">\n",
       "      <th></th>\n",
       "      <th>satisfy</th>\n",
       "      <th>must</th>\n",
       "      <th>career</th>\n",
       "      <th>contexts</th>\n",
       "      <th>national</th>\n",
       "      <th>focused</th>\n",
       "      <th>adored</th>\n",
       "      <th>South</th>\n",
       "      <th>finally</th>\n",
       "      <th>third</th>\n",
       "      <th>...</th>\n",
       "      <th>do</th>\n",
       "      <th>IPL</th>\n",
       "      <th>visit</th>\n",
       "      <th>Test</th>\n",
       "      <th>this</th>\n",
       "      <th>applies</th>\n",
       "      <th>Squid</th>\n",
       "      <th>determined</th>\n",
       "      <th>statement</th>\n",
       "      <th>staffing</th>\n",
       "    </tr>\n",
       "  </thead>\n",
       "  <tbody>\n",
       "    <tr>\n",
       "      <th>CCONJ</th>\n",
       "      <td>0.000930</td>\n",
       "      <td>0.000930</td>\n",
       "      <td>0.000930</td>\n",
       "      <td>0.000930</td>\n",
       "      <td>0.000930</td>\n",
       "      <td>0.000930</td>\n",
       "      <td>0.000930</td>\n",
       "      <td>0.000930</td>\n",
       "      <td>0.000930</td>\n",
       "      <td>0.000930</td>\n",
       "      <td>...</td>\n",
       "      <td>0.0</td>\n",
       "      <td>0.0</td>\n",
       "      <td>0.0</td>\n",
       "      <td>0.0</td>\n",
       "      <td>0.0</td>\n",
       "      <td>0.0</td>\n",
       "      <td>0.0</td>\n",
       "      <td>0.0</td>\n",
       "      <td>0.0</td>\n",
       "      <td>0.0</td>\n",
       "    </tr>\n",
       "    <tr>\n",
       "      <th>PROPN</th>\n",
       "      <td>0.000867</td>\n",
       "      <td>0.000867</td>\n",
       "      <td>0.000867</td>\n",
       "      <td>0.000867</td>\n",
       "      <td>0.000867</td>\n",
       "      <td>0.001735</td>\n",
       "      <td>0.000867</td>\n",
       "      <td>0.000867</td>\n",
       "      <td>0.000867</td>\n",
       "      <td>0.000867</td>\n",
       "      <td>...</td>\n",
       "      <td>0.0</td>\n",
       "      <td>0.0</td>\n",
       "      <td>0.0</td>\n",
       "      <td>0.0</td>\n",
       "      <td>0.0</td>\n",
       "      <td>0.0</td>\n",
       "      <td>0.0</td>\n",
       "      <td>0.0</td>\n",
       "      <td>0.0</td>\n",
       "      <td>0.0</td>\n",
       "    </tr>\n",
       "    <tr>\n",
       "      <th>ADV</th>\n",
       "      <td>0.000862</td>\n",
       "      <td>0.000862</td>\n",
       "      <td>0.000862</td>\n",
       "      <td>0.000862</td>\n",
       "      <td>0.000862</td>\n",
       "      <td>0.000862</td>\n",
       "      <td>0.000862</td>\n",
       "      <td>0.000862</td>\n",
       "      <td>0.000862</td>\n",
       "      <td>0.000862</td>\n",
       "      <td>...</td>\n",
       "      <td>0.0</td>\n",
       "      <td>0.0</td>\n",
       "      <td>0.0</td>\n",
       "      <td>0.0</td>\n",
       "      <td>0.0</td>\n",
       "      <td>0.0</td>\n",
       "      <td>0.0</td>\n",
       "      <td>0.0</td>\n",
       "      <td>0.0</td>\n",
       "      <td>0.0</td>\n",
       "    </tr>\n",
       "    <tr>\n",
       "      <th>NOUN</th>\n",
       "      <td>0.000656</td>\n",
       "      <td>0.000656</td>\n",
       "      <td>0.000656</td>\n",
       "      <td>0.000656</td>\n",
       "      <td>0.000656</td>\n",
       "      <td>0.000656</td>\n",
       "      <td>0.000656</td>\n",
       "      <td>0.000656</td>\n",
       "      <td>0.000656</td>\n",
       "      <td>0.000656</td>\n",
       "      <td>...</td>\n",
       "      <td>0.0</td>\n",
       "      <td>0.0</td>\n",
       "      <td>0.0</td>\n",
       "      <td>0.0</td>\n",
       "      <td>0.0</td>\n",
       "      <td>0.0</td>\n",
       "      <td>0.0</td>\n",
       "      <td>0.0</td>\n",
       "      <td>0.0</td>\n",
       "      <td>0.0</td>\n",
       "    </tr>\n",
       "    <tr>\n",
       "      <th>AUX</th>\n",
       "      <td>0.000898</td>\n",
       "      <td>0.000898</td>\n",
       "      <td>0.000898</td>\n",
       "      <td>0.000898</td>\n",
       "      <td>0.000898</td>\n",
       "      <td>0.000898</td>\n",
       "      <td>0.000898</td>\n",
       "      <td>0.000898</td>\n",
       "      <td>0.000898</td>\n",
       "      <td>0.000898</td>\n",
       "      <td>...</td>\n",
       "      <td>0.0</td>\n",
       "      <td>0.0</td>\n",
       "      <td>0.0</td>\n",
       "      <td>0.0</td>\n",
       "      <td>0.0</td>\n",
       "      <td>0.0</td>\n",
       "      <td>0.0</td>\n",
       "      <td>0.0</td>\n",
       "      <td>0.0</td>\n",
       "      <td>0.0</td>\n",
       "    </tr>\n",
       "    <tr>\n",
       "      <th>X</th>\n",
       "      <td>0.000992</td>\n",
       "      <td>0.000992</td>\n",
       "      <td>0.000992</td>\n",
       "      <td>0.000992</td>\n",
       "      <td>0.000992</td>\n",
       "      <td>0.000992</td>\n",
       "      <td>0.000992</td>\n",
       "      <td>0.000992</td>\n",
       "      <td>0.000992</td>\n",
       "      <td>0.000992</td>\n",
       "      <td>...</td>\n",
       "      <td>0.0</td>\n",
       "      <td>0.0</td>\n",
       "      <td>0.0</td>\n",
       "      <td>0.0</td>\n",
       "      <td>0.0</td>\n",
       "      <td>0.0</td>\n",
       "      <td>0.0</td>\n",
       "      <td>0.0</td>\n",
       "      <td>0.0</td>\n",
       "      <td>0.0</td>\n",
       "    </tr>\n",
       "    <tr>\n",
       "      <th>PUNCT</th>\n",
       "      <td>0.000734</td>\n",
       "      <td>0.000734</td>\n",
       "      <td>0.000734</td>\n",
       "      <td>0.000734</td>\n",
       "      <td>0.000734</td>\n",
       "      <td>0.000734</td>\n",
       "      <td>0.000734</td>\n",
       "      <td>0.000734</td>\n",
       "      <td>0.000734</td>\n",
       "      <td>0.000734</td>\n",
       "      <td>...</td>\n",
       "      <td>0.0</td>\n",
       "      <td>0.0</td>\n",
       "      <td>0.0</td>\n",
       "      <td>0.0</td>\n",
       "      <td>0.0</td>\n",
       "      <td>0.0</td>\n",
       "      <td>0.0</td>\n",
       "      <td>0.0</td>\n",
       "      <td>0.0</td>\n",
       "      <td>0.0</td>\n",
       "    </tr>\n",
       "    <tr>\n",
       "      <th>DET</th>\n",
       "      <td>0.000786</td>\n",
       "      <td>0.000786</td>\n",
       "      <td>0.000786</td>\n",
       "      <td>0.000786</td>\n",
       "      <td>0.000786</td>\n",
       "      <td>0.000786</td>\n",
       "      <td>0.000786</td>\n",
       "      <td>0.000786</td>\n",
       "      <td>0.000786</td>\n",
       "      <td>0.000786</td>\n",
       "      <td>...</td>\n",
       "      <td>0.0</td>\n",
       "      <td>0.0</td>\n",
       "      <td>0.0</td>\n",
       "      <td>0.0</td>\n",
       "      <td>0.0</td>\n",
       "      <td>0.0</td>\n",
       "      <td>0.0</td>\n",
       "      <td>0.0</td>\n",
       "      <td>0.0</td>\n",
       "      <td>0.0</td>\n",
       "    </tr>\n",
       "    <tr>\n",
       "      <th>PRON</th>\n",
       "      <td>0.000852</td>\n",
       "      <td>0.000852</td>\n",
       "      <td>0.000852</td>\n",
       "      <td>0.000852</td>\n",
       "      <td>0.000852</td>\n",
       "      <td>0.000852</td>\n",
       "      <td>0.000852</td>\n",
       "      <td>0.000852</td>\n",
       "      <td>0.000852</td>\n",
       "      <td>0.000852</td>\n",
       "      <td>...</td>\n",
       "      <td>0.0</td>\n",
       "      <td>0.0</td>\n",
       "      <td>0.0</td>\n",
       "      <td>0.0</td>\n",
       "      <td>0.0</td>\n",
       "      <td>0.0</td>\n",
       "      <td>0.0</td>\n",
       "      <td>0.0</td>\n",
       "      <td>0.0</td>\n",
       "      <td>0.0</td>\n",
       "    </tr>\n",
       "    <tr>\n",
       "      <th>PART</th>\n",
       "      <td>0.000971</td>\n",
       "      <td>0.000971</td>\n",
       "      <td>0.000971</td>\n",
       "      <td>0.000971</td>\n",
       "      <td>0.000971</td>\n",
       "      <td>0.000971</td>\n",
       "      <td>0.000971</td>\n",
       "      <td>0.000971</td>\n",
       "      <td>0.000971</td>\n",
       "      <td>0.000971</td>\n",
       "      <td>...</td>\n",
       "      <td>0.0</td>\n",
       "      <td>0.0</td>\n",
       "      <td>0.0</td>\n",
       "      <td>0.0</td>\n",
       "      <td>0.0</td>\n",
       "      <td>0.0</td>\n",
       "      <td>0.0</td>\n",
       "      <td>0.0</td>\n",
       "      <td>0.0</td>\n",
       "      <td>0.0</td>\n",
       "    </tr>\n",
       "    <tr>\n",
       "      <th>NUM</th>\n",
       "      <td>0.000962</td>\n",
       "      <td>0.000962</td>\n",
       "      <td>0.000962</td>\n",
       "      <td>0.000962</td>\n",
       "      <td>0.000962</td>\n",
       "      <td>0.000962</td>\n",
       "      <td>0.000962</td>\n",
       "      <td>0.000962</td>\n",
       "      <td>0.000962</td>\n",
       "      <td>0.000962</td>\n",
       "      <td>...</td>\n",
       "      <td>0.0</td>\n",
       "      <td>0.0</td>\n",
       "      <td>0.0</td>\n",
       "      <td>0.0</td>\n",
       "      <td>0.0</td>\n",
       "      <td>0.0</td>\n",
       "      <td>0.0</td>\n",
       "      <td>0.0</td>\n",
       "      <td>0.0</td>\n",
       "      <td>0.0</td>\n",
       "    </tr>\n",
       "    <tr>\n",
       "      <th>ADP</th>\n",
       "      <td>0.000779</td>\n",
       "      <td>0.000779</td>\n",
       "      <td>0.000779</td>\n",
       "      <td>0.000779</td>\n",
       "      <td>0.000779</td>\n",
       "      <td>0.000779</td>\n",
       "      <td>0.000779</td>\n",
       "      <td>0.000779</td>\n",
       "      <td>0.000779</td>\n",
       "      <td>0.000779</td>\n",
       "      <td>...</td>\n",
       "      <td>0.0</td>\n",
       "      <td>0.0</td>\n",
       "      <td>0.0</td>\n",
       "      <td>0.0</td>\n",
       "      <td>0.0</td>\n",
       "      <td>0.0</td>\n",
       "      <td>0.0</td>\n",
       "      <td>0.0</td>\n",
       "      <td>0.0</td>\n",
       "      <td>0.0</td>\n",
       "    </tr>\n",
       "    <tr>\n",
       "      <th>SYM</th>\n",
       "      <td>0.000994</td>\n",
       "      <td>0.000994</td>\n",
       "      <td>0.000994</td>\n",
       "      <td>0.000994</td>\n",
       "      <td>0.000994</td>\n",
       "      <td>0.000994</td>\n",
       "      <td>0.000994</td>\n",
       "      <td>0.000994</td>\n",
       "      <td>0.000994</td>\n",
       "      <td>0.000994</td>\n",
       "      <td>...</td>\n",
       "      <td>0.0</td>\n",
       "      <td>0.0</td>\n",
       "      <td>0.0</td>\n",
       "      <td>0.0</td>\n",
       "      <td>0.0</td>\n",
       "      <td>0.0</td>\n",
       "      <td>0.0</td>\n",
       "      <td>0.0</td>\n",
       "      <td>0.0</td>\n",
       "      <td>0.0</td>\n",
       "    </tr>\n",
       "    <tr>\n",
       "      <th>VERB</th>\n",
       "      <td>0.000766</td>\n",
       "      <td>0.000766</td>\n",
       "      <td>0.000766</td>\n",
       "      <td>0.000766</td>\n",
       "      <td>0.000766</td>\n",
       "      <td>0.000766</td>\n",
       "      <td>0.000766</td>\n",
       "      <td>0.000766</td>\n",
       "      <td>0.000766</td>\n",
       "      <td>0.000766</td>\n",
       "      <td>...</td>\n",
       "      <td>0.0</td>\n",
       "      <td>0.0</td>\n",
       "      <td>0.0</td>\n",
       "      <td>0.0</td>\n",
       "      <td>0.0</td>\n",
       "      <td>0.0</td>\n",
       "      <td>0.0</td>\n",
       "      <td>0.0</td>\n",
       "      <td>0.0</td>\n",
       "      <td>0.0</td>\n",
       "    </tr>\n",
       "    <tr>\n",
       "      <th>SCONJ</th>\n",
       "      <td>0.000948</td>\n",
       "      <td>0.000948</td>\n",
       "      <td>0.000948</td>\n",
       "      <td>0.000948</td>\n",
       "      <td>0.000948</td>\n",
       "      <td>0.000948</td>\n",
       "      <td>0.000948</td>\n",
       "      <td>0.000948</td>\n",
       "      <td>0.000948</td>\n",
       "      <td>0.000948</td>\n",
       "      <td>...</td>\n",
       "      <td>0.0</td>\n",
       "      <td>0.0</td>\n",
       "      <td>0.0</td>\n",
       "      <td>0.0</td>\n",
       "      <td>0.0</td>\n",
       "      <td>0.0</td>\n",
       "      <td>0.0</td>\n",
       "      <td>0.0</td>\n",
       "      <td>0.0</td>\n",
       "      <td>0.0</td>\n",
       "    </tr>\n",
       "    <tr>\n",
       "      <th>ADJ</th>\n",
       "      <td>0.000844</td>\n",
       "      <td>0.000844</td>\n",
       "      <td>0.000844</td>\n",
       "      <td>0.000844</td>\n",
       "      <td>0.000844</td>\n",
       "      <td>0.000844</td>\n",
       "      <td>0.000844</td>\n",
       "      <td>0.000844</td>\n",
       "      <td>0.000844</td>\n",
       "      <td>0.000844</td>\n",
       "      <td>...</td>\n",
       "      <td>0.0</td>\n",
       "      <td>0.0</td>\n",
       "      <td>0.0</td>\n",
       "      <td>0.0</td>\n",
       "      <td>0.0</td>\n",
       "      <td>0.0</td>\n",
       "      <td>0.0</td>\n",
       "      <td>0.0</td>\n",
       "      <td>0.0</td>\n",
       "      <td>0.0</td>\n",
       "    </tr>\n",
       "  </tbody>\n",
       "</table>\n",
       "<p>16 rows × 1004 columns</p>\n",
       "</div>"
      ],
      "text/plain": [
       "        satisfy      must    career  contexts  national   focused    adored  \\\n",
       "CCONJ  0.000930  0.000930  0.000930  0.000930  0.000930  0.000930  0.000930   \n",
       "PROPN  0.000867  0.000867  0.000867  0.000867  0.000867  0.001735  0.000867   \n",
       "ADV    0.000862  0.000862  0.000862  0.000862  0.000862  0.000862  0.000862   \n",
       "NOUN   0.000656  0.000656  0.000656  0.000656  0.000656  0.000656  0.000656   \n",
       "AUX    0.000898  0.000898  0.000898  0.000898  0.000898  0.000898  0.000898   \n",
       "X      0.000992  0.000992  0.000992  0.000992  0.000992  0.000992  0.000992   \n",
       "PUNCT  0.000734  0.000734  0.000734  0.000734  0.000734  0.000734  0.000734   \n",
       "DET    0.000786  0.000786  0.000786  0.000786  0.000786  0.000786  0.000786   \n",
       "PRON   0.000852  0.000852  0.000852  0.000852  0.000852  0.000852  0.000852   \n",
       "PART   0.000971  0.000971  0.000971  0.000971  0.000971  0.000971  0.000971   \n",
       "NUM    0.000962  0.000962  0.000962  0.000962  0.000962  0.000962  0.000962   \n",
       "ADP    0.000779  0.000779  0.000779  0.000779  0.000779  0.000779  0.000779   \n",
       "SYM    0.000994  0.000994  0.000994  0.000994  0.000994  0.000994  0.000994   \n",
       "VERB   0.000766  0.000766  0.000766  0.000766  0.000766  0.000766  0.000766   \n",
       "SCONJ  0.000948  0.000948  0.000948  0.000948  0.000948  0.000948  0.000948   \n",
       "ADJ    0.000844  0.000844  0.000844  0.000844  0.000844  0.000844  0.000844   \n",
       "\n",
       "          South   finally     third  ...   do  IPL  visit  Test  this  \\\n",
       "CCONJ  0.000930  0.000930  0.000930  ...  0.0  0.0    0.0   0.0   0.0   \n",
       "PROPN  0.000867  0.000867  0.000867  ...  0.0  0.0    0.0   0.0   0.0   \n",
       "ADV    0.000862  0.000862  0.000862  ...  0.0  0.0    0.0   0.0   0.0   \n",
       "NOUN   0.000656  0.000656  0.000656  ...  0.0  0.0    0.0   0.0   0.0   \n",
       "AUX    0.000898  0.000898  0.000898  ...  0.0  0.0    0.0   0.0   0.0   \n",
       "X      0.000992  0.000992  0.000992  ...  0.0  0.0    0.0   0.0   0.0   \n",
       "PUNCT  0.000734  0.000734  0.000734  ...  0.0  0.0    0.0   0.0   0.0   \n",
       "DET    0.000786  0.000786  0.000786  ...  0.0  0.0    0.0   0.0   0.0   \n",
       "PRON   0.000852  0.000852  0.000852  ...  0.0  0.0    0.0   0.0   0.0   \n",
       "PART   0.000971  0.000971  0.000971  ...  0.0  0.0    0.0   0.0   0.0   \n",
       "NUM    0.000962  0.000962  0.000962  ...  0.0  0.0    0.0   0.0   0.0   \n",
       "ADP    0.000779  0.000779  0.000779  ...  0.0  0.0    0.0   0.0   0.0   \n",
       "SYM    0.000994  0.000994  0.000994  ...  0.0  0.0    0.0   0.0   0.0   \n",
       "VERB   0.000766  0.000766  0.000766  ...  0.0  0.0    0.0   0.0   0.0   \n",
       "SCONJ  0.000948  0.000948  0.000948  ...  0.0  0.0    0.0   0.0   0.0   \n",
       "ADJ    0.000844  0.000844  0.000844  ...  0.0  0.0    0.0   0.0   0.0   \n",
       "\n",
       "       applies  Squid  determined  statement  staffing  \n",
       "CCONJ      0.0    0.0         0.0        0.0       0.0  \n",
       "PROPN      0.0    0.0         0.0        0.0       0.0  \n",
       "ADV        0.0    0.0         0.0        0.0       0.0  \n",
       "NOUN       0.0    0.0         0.0        0.0       0.0  \n",
       "AUX        0.0    0.0         0.0        0.0       0.0  \n",
       "X          0.0    0.0         0.0        0.0       0.0  \n",
       "PUNCT      0.0    0.0         0.0        0.0       0.0  \n",
       "DET        0.0    0.0         0.0        0.0       0.0  \n",
       "PRON       0.0    0.0         0.0        0.0       0.0  \n",
       "PART       0.0    0.0         0.0        0.0       0.0  \n",
       "NUM        0.0    0.0         0.0        0.0       0.0  \n",
       "ADP        0.0    0.0         0.0        0.0       0.0  \n",
       "SYM        0.0    0.0         0.0        0.0       0.0  \n",
       "VERB       0.0    0.0         0.0        0.0       0.0  \n",
       "SCONJ      0.0    0.0         0.0        0.0       0.0  \n",
       "ADJ        0.0    0.0         0.0        0.0       0.0  \n",
       "\n",
       "[16 rows x 1004 columns]"
      ]
     },
     "execution_count": 18,
     "metadata": {},
     "output_type": "execute_result"
    }
   ],
   "source": [
    "emission_matrix"
   ]
  },
  {
   "cell_type": "markdown",
   "metadata": {},
   "source": [
    "#### Viterbi Algorithm\n",
    "\n",
    "The steps are as follows:\n",
    "\n",
    "1. Given a sequence of words\n",
    "2. iterate through the sequence\n",
    "3. for each word (starting from first word in sequence) calculate the product of emission probabilties and transition probabilties for all possible tags.\n",
    "4. assign the tag which has maximum probability obtained in step 3 above.\n",
    "5. move to the next word in sequence to repeat steps 3 and 4 above."
   ]
  },
  {
   "cell_type": "code",
   "execution_count": 19,
   "metadata": {
    "ExecuteTime": {
     "end_time": "2022-01-21T15:01:52.196076Z",
     "start_time": "2022-01-21T15:01:52.184072Z"
    }
   },
   "outputs": [],
   "source": [
    "# Vanilla Viterbi Algorithm\n",
    "def Viterbi(words, train_bag = train_tagged_words):\n",
    "    state = []\n",
    "    \n",
    "    T = list(set([pair[1] for pair in train_bag]))\n",
    "    \n",
    "    for key, word in enumerate(words):\n",
    "        #initialise list of probability column for a given observation\n",
    "        p = [] \n",
    "        for tag in T:\n",
    "            if key == 0:\n",
    "                transition_p = tags_df.loc['PUNCT', tag]\n",
    "#                 continue\n",
    "            else:\n",
    "                transition_p = tags_df.loc[state[-1], tag]\n",
    "                \n",
    "            # compute emission and state probabilities\n",
    "            emission_p = word_given_tag(words[key], tag)[0]/word_given_tag(words[key], tag)[1]\n",
    "            state_probability = emission_p * transition_p    \n",
    "            p.append(state_probability)\n",
    "            \n",
    "        pmax = max(p)\n",
    "        # getting state for which probability is maximum\n",
    "        state_max = T[p.index(pmax)] \n",
    "        state.append(state_max)\n",
    "    return list(zip(words, state))"
   ]
  },
  {
   "cell_type": "markdown",
   "metadata": {},
   "source": [
    "#### Testing Viterbi Algorithm on train data"
   ]
  },
  {
   "cell_type": "code",
   "execution_count": 20,
   "metadata": {
    "ExecuteTime": {
     "end_time": "2022-01-21T15:02:18.399348Z",
     "start_time": "2022-01-21T15:01:52.199080Z"
    }
   },
   "outputs": [],
   "source": [
    "random.seed(19522298)\n",
    "\n",
    "# # list of tagged words\n",
    "train_run_base = [tup for sent in train_set for tup in sent]\n",
    "\n",
    "# list of untagged words\n",
    "train_tagged_words = [tup[0] for sent in train_set for tup in sent]\n",
    "train_seq = Viterbi(train_tagged_words)"
   ]
  },
  {
   "cell_type": "code",
   "execution_count": 21,
   "metadata": {
    "ExecuteTime": {
     "end_time": "2022-01-21T15:02:18.415368Z",
     "start_time": "2022-01-21T15:02:18.402387Z"
    }
   },
   "outputs": [
    {
     "name": "stdout",
     "output_type": "stream",
     "text": [
      "The accuracy of the Viterbi Algorithm train set is - 73.61162877376071%\n"
     ]
    }
   ],
   "source": [
    "check = [i for i, j in zip(train_seq, train_run_base) if i == j]\n",
    "vanilla_viterbi_accuracy = len(check)/len(train_seq)\n",
    "print(\"The accuracy of the Viterbi Algorithm train set is -\", str(vanilla_viterbi_accuracy*100) + '%')"
   ]
  },
  {
   "cell_type": "markdown",
   "metadata": {},
   "source": [
    "#### Testing Viterbi Algorithm on train data"
   ]
  },
  {
   "cell_type": "code",
   "execution_count": 22,
   "metadata": {
    "ExecuteTime": {
     "end_time": "2022-01-21T15:02:30.809918Z",
     "start_time": "2022-01-21T15:02:18.419376Z"
    }
   },
   "outputs": [],
   "source": [
    "random.seed(19522298)\n",
    "\n",
    "# list of tagged words\n",
    "test_run_base = [tup for sent in test_set for tup in sent]\n",
    "\n",
    "# list of untagged words\n",
    "test_tagged_words = [tup[0] for sent in test_set for tup in sent]\n",
    "tagged_seq = Viterbi(test_tagged_words)"
   ]
  },
  {
   "cell_type": "code",
   "execution_count": 23,
   "metadata": {
    "ExecuteTime": {
     "end_time": "2022-01-21T15:02:30.826026Z",
     "start_time": "2022-01-21T15:02:30.813508Z"
    },
    "scrolled": true
   },
   "outputs": [
    {
     "name": "stdout",
     "output_type": "stream",
     "text": [
      "The accuracy of the Viterbi Algorithm on test set is - 54.62046204620462%\n"
     ]
    }
   ],
   "source": [
    "check = [i for i, j in zip(tagged_seq, test_run_base) if i == j]\n",
    "vanilla_viterbi_accuracy = len(check)/len(tagged_seq)\n",
    "print(\"The accuracy of the Viterbi Algorithm on test set is -\", str(vanilla_viterbi_accuracy*100) + '%')"
   ]
  },
  {
   "cell_type": "markdown",
   "metadata": {},
   "source": [
    "### Visualize top 15 tuples the HMM gets wrong"
   ]
  },
  {
   "cell_type": "code",
   "execution_count": 24,
   "metadata": {
    "ExecuteTime": {
     "end_time": "2022-01-21T15:02:30.842023Z",
     "start_time": "2022-01-21T15:02:30.831026Z"
    }
   },
   "outputs": [],
   "source": [
    "wrong = [(i[1], j[1]) for i, j in zip(tagged_seq, test_run_base) if i != j]"
   ]
  },
  {
   "cell_type": "code",
   "execution_count": 25,
   "metadata": {
    "ExecuteTime": {
     "end_time": "2022-01-21T15:02:30.858029Z",
     "start_time": "2022-01-21T15:02:30.847025Z"
    }
   },
   "outputs": [],
   "source": [
    "from collections import Counter\n",
    "\n",
    "wrong_tuple = dict(Counter(wrong).most_common(15))\n",
    "wrong_tuple = dict(sorted(wrong_tuple.items(), key=lambda item: item[1]))"
   ]
  },
  {
   "cell_type": "code",
   "execution_count": 26,
   "metadata": {
    "ExecuteTime": {
     "end_time": "2022-01-21T15:02:30.874023Z",
     "start_time": "2022-01-21T15:02:30.862026Z"
    }
   },
   "outputs": [
    {
     "data": {
      "text/plain": [
       "{('PRON', 'NOUN'): 14,\n",
       " ('ADP', 'PROPN'): 15,\n",
       " ('VERB', 'NOUN'): 16,\n",
       " ('NOUN', 'VERB'): 16,\n",
       " ('DET', 'ADJ'): 16,\n",
       " ('VERB', 'CCONJ'): 16,\n",
       " ('NOUN', 'PUNCT'): 16,\n",
       " ('PUNCT', 'PROPN'): 17,\n",
       " ('DET', 'VERB'): 18,\n",
       " ('PUNCT', 'NUM'): 19,\n",
       " ('NOUN', 'ADJ'): 20,\n",
       " ('DET', 'NOUN'): 23,\n",
       " ('PUNCT', 'VERB'): 23,\n",
       " ('PUNCT', 'NOUN'): 28,\n",
       " ('PRON', 'PROPN'): 33}"
      ]
     },
     "execution_count": 26,
     "metadata": {},
     "output_type": "execute_result"
    }
   ],
   "source": [
    "wrong_tuple"
   ]
  },
  {
   "cell_type": "code",
   "execution_count": 27,
   "metadata": {
    "ExecuteTime": {
     "end_time": "2022-01-21T15:02:31.760769Z",
     "start_time": "2022-01-21T15:02:30.883031Z"
    },
    "scrolled": false
   },
   "outputs": [
    {
     "data": {
      "image/png": "[encoded data removed]",
      "text/plain": [
       "<Figure size 1080x936 with 1 Axes>"
      ]
     },
     "metadata": {
      "needs_background": "light"
     },
     "output_type": "display_data"
    }
   ],
   "source": [
    "plt.rcParams[\"figure.figsize\"] = (15,13)\n",
    "plt.barh(range(len(wrong_tuple)), list(wrong_tuple.values()), align='center')\n",
    "plt.yticks(range(len(wrong_tuple)), list(wrong_tuple.keys()))\n",
    "# plt.xticks(rotation=90)\n",
    "# plt.show()\n",
    "plt.tight_layout()\n",
    "plt.savefig('../img/wrong_tuple_hmm.png', bbox_inches='tight', pad_inches=0.0)"
   ]
  }
 ],
 "metadata": {
  "kernelspec": {
   "display_name": "Python 3 (ipykernel)",
   "language": "python",
   "name": "python3"
  },
  "language_info": {
   "codemirror_mode": {
    "name": "ipython",
    "version": 3
   },
   "file_extension": ".py",
   "mimetype": "text/x-python",
   "name": "python",
   "nbconvert_exporter": "python",
   "pygments_lexer": "ipython3",
   "version": "3.7.9"
  }
 },
 "nbformat": 4,
 "nbformat_minor": 2
}
