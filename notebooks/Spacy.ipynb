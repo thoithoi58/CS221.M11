{
 "cells": [
  {
   "cell_type": "code",
   "execution_count": 1,
   "id": "9a96648c",
   "metadata": {
    "ExecuteTime": {
     "end_time": "2022-01-21T13:09:37.853296Z",
     "start_time": "2022-01-21T13:09:26.679483Z"
    }
   },
   "outputs": [],
   "source": [
    "import spacy\n",
    "from spacy.tokenizer import Tokenizer\n",
    "from spacy.util import compile_infix_regex\n",
    "\n",
    "nlp = spacy.load(\"en_core_web_sm\")\n",
    "\n",
    "def custom_tokenizer(nlp):\n",
    "    inf = list(nlp.Defaults.infixes)               # Default infixes\n",
    "    inf.remove(r\"(?<=[0-9])[+\\-\\*^](?=[0-9-])\")    # Remove the generic op between numbers or between a number and a -\n",
    "    inf = tuple(inf)                               # Convert inf to tuple\n",
    "    infixes = inf + tuple([r\"(?<=[0-9])[+*^](?=[0-9-])\", r\"(?<=[0-9])-(?=-)\"])  # Add the removed rule after subtracting (?<=[0-9])-(?=[0-9]) pattern\n",
    "    infixes = [x for x in infixes if '-|–|—|--|---|——|~' not in x] # Remove - between letters rule\n",
    "    infix_re = compile_infix_regex(infixes)\n",
    "\n",
    "    return Tokenizer(nlp.vocab, prefix_search=nlp.tokenizer.prefix_search,\n",
    "                                suffix_search=nlp.tokenizer.suffix_search,\n",
    "                                infix_finditer=infix_re.finditer,\n",
    "                                token_match=nlp.tokenizer.token_match,\n",
    "                                rules=nlp.Defaults.tokenizer_exceptions)\n",
    "\n",
    "nlp.tokenizer = custom_tokenizer(nlp)"
   ]
  },
  {
   "cell_type": "code",
   "execution_count": null,
   "id": "8459b93f",
   "metadata": {
    "ExecuteTime": {
     "end_time": "2022-01-21T09:35:25.603538Z",
     "start_time": "2022-01-21T09:35:25.593023Z"
    }
   },
   "outputs": [],
   "source": [
    "#Read each line in train/test file and split word and its part-of-speech by '/' seperator\n",
    "def read(file):\n",
    "    with open(file, 'r', encoding='utf8') as f:\n",
    "        file = f.read().splitlines()\n",
    "    data = [[] for _ in range(len(file))]\n",
    "    for idx, i in enumerate(file):\n",
    "        a = i.split()\n",
    "        for j in a:\n",
    "            tmp = (j.rsplit('/',1))\n",
    "            data[idx].append((tmp[0], tmp[1]))\n",
    "    return data"
   ]
  },
  {
   "cell_type": "code",
   "execution_count": null,
   "id": "fa4a38cc",
   "metadata": {
    "ExecuteTime": {
     "end_time": "2022-01-21T09:35:25.635606Z",
     "start_time": "2022-01-21T09:35:25.605089Z"
    }
   },
   "outputs": [],
   "source": [
    "train_set = read('../corpus/train.txt')\n",
    "test_set = read('../corpus/test.txt')"
   ]
  },
  {
   "cell_type": "code",
   "execution_count": null,
   "id": "baad6608",
   "metadata": {
    "ExecuteTime": {
     "end_time": "2022-01-21T09:37:30.040826Z",
     "start_time": "2022-01-21T09:37:30.023965Z"
    }
   },
   "outputs": [],
   "source": [
    "train_run_base = [tup for sent in train_set for tup in sent]\n",
    "train_tagged_words = [tup[0] for sent in train_set for tup in sent]"
   ]
  },
  {
   "cell_type": "code",
   "execution_count": null,
   "id": "2b871374",
   "metadata": {
    "ExecuteTime": {
     "end_time": "2022-01-21T09:38:03.619074Z",
     "start_time": "2022-01-21T09:38:03.600485Z"
    }
   },
   "outputs": [],
   "source": [
    "train_tagged_words = \" \".join(train_tagged_words)"
   ]
  },
  {
   "cell_type": "code",
   "execution_count": null,
   "id": "6e9f0ab8",
   "metadata": {
    "ExecuteTime": {
     "end_time": "2022-01-21T09:40:01.033647Z",
     "start_time": "2022-01-21T09:40:01.017036Z"
    }
   },
   "outputs": [],
   "source": [
    "train_tagged_words = train_tagged_words.replace(\"you 've\", \"you've\")"
   ]
  },
  {
   "cell_type": "markdown",
   "id": "b2613343",
   "metadata": {},
   "source": [
    "# Test on train set"
   ]
  },
  {
   "cell_type": "code",
   "execution_count": null,
   "id": "dc0cbdbc",
   "metadata": {
    "ExecuteTime": {
     "end_time": "2022-01-21T09:40:33.272141Z",
     "start_time": "2022-01-21T09:40:32.540136Z"
    }
   },
   "outputs": [],
   "source": [
    "doc = nlp(train_tagged_words)\n",
    "spacy_check = [(i.text, i.pos_) for i in doc]"
   ]
  },
  {
   "cell_type": "code",
   "execution_count": null,
   "id": "1c0ae707",
   "metadata": {
    "ExecuteTime": {
     "end_time": "2022-01-21T09:40:42.028360Z",
     "start_time": "2022-01-21T09:40:42.007787Z"
    }
   },
   "outputs": [],
   "source": [
    "check = [i for i, j in zip(spacy_check, train_run_base) if i == j]\n",
    "viterbi_accuracy = len(check)/len(spacy_check)\n",
    "print(\"The accuracy of the Viterbi Algorithm is -\", str(viterbi_accuracy*100) + '%')"
   ]
  },
  {
   "cell_type": "code",
   "execution_count": null,
   "id": "42b0b0e2",
   "metadata": {
    "ExecuteTime": {
     "end_time": "2022-01-21T09:42:09.333349Z",
     "start_time": "2022-01-21T09:42:09.325722Z"
    }
   },
   "outputs": [],
   "source": [
    "for i, j in zip(spacy_check, train_run_base):\n",
    "    if i[0]!=j[0]:\n",
    "        print(i, j)"
   ]
  },
  {
   "cell_type": "markdown",
   "id": "14dd0cd1",
   "metadata": {},
   "source": [
    "# Test on test set"
   ]
  },
  {
   "cell_type": "code",
   "execution_count": null,
   "id": "fdeadc0b",
   "metadata": {
    "ExecuteTime": {
     "end_time": "2022-01-21T09:42:37.482084Z",
     "start_time": "2022-01-21T09:42:37.468086Z"
    },
    "scrolled": true
   },
   "outputs": [],
   "source": [
    "test_tagged_words = [tup[0] for sent in test_set for tup in sent]"
   ]
  },
  {
   "cell_type": "code",
   "execution_count": null,
   "id": "57186af2",
   "metadata": {
    "ExecuteTime": {
     "end_time": "2022-01-21T09:42:37.654281Z",
     "start_time": "2022-01-21T09:42:37.644289Z"
    }
   },
   "outputs": [],
   "source": [
    "test_run_base = [tup for sent in test_set for tup in sent]"
   ]
  },
  {
   "cell_type": "code",
   "execution_count": null,
   "id": "0c96b47f",
   "metadata": {
    "ExecuteTime": {
     "end_time": "2022-01-21T09:42:38.180438Z",
     "start_time": "2022-01-21T09:42:37.815433Z"
    }
   },
   "outputs": [],
   "source": [
    "doc = nlp(\" \".join(test_tagged_words))"
   ]
  },
  {
   "cell_type": "code",
   "execution_count": null,
   "id": "74800fd0",
   "metadata": {
    "ExecuteTime": {
     "end_time": "2022-01-21T09:42:38.195983Z",
     "start_time": "2022-01-21T09:42:38.183417Z"
    }
   },
   "outputs": [],
   "source": [
    "spacy_check = [(i.text, i.pos_) for i in doc]"
   ]
  },
  {
   "cell_type": "code",
   "execution_count": null,
   "id": "c118dc46",
   "metadata": {
    "ExecuteTime": {
     "end_time": "2022-01-21T09:42:38.227979Z",
     "start_time": "2022-01-21T09:42:38.210976Z"
    }
   },
   "outputs": [],
   "source": [
    "check = [i for i, j in zip(spacy_check, test_run_base) if i == j]\n",
    "viterbi_accuracy = len(check)/len(spacy_check)\n",
    "print(\"The accuracy of the Viterbi Algorithm is -\", str(viterbi_accuracy*100) + '%')"
   ]
  }
 ],
 "metadata": {
  "kernelspec": {
   "display_name": "Python 3 (ipykernel)",
   "language": "python",
   "name": "python3"
  },
  "language_info": {
   "codemirror_mode": {
    "name": "ipython",
    "version": 3
   },
   "file_extension": ".py",
   "mimetype": "text/x-python",
   "name": "python",
   "nbconvert_exporter": "python",
   "pygments_lexer": "ipython3",
   "version": "3.7.9"
  }
 },
 "nbformat": 4,
 "nbformat_minor": 5
}
